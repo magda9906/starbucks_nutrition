{
 "cells": [
  {
   "cell_type": "markdown",
   "id": "911b8866",
   "metadata": {},
   "source": [
    "# Analiza wstępna"
   ]
  },
  {
   "cell_type": "code",
   "execution_count": 14,
   "id": "3567375a",
   "metadata": {},
   "outputs": [],
   "source": [
    "import pandas as pd\n",
    "import seaborn as sns\n",
    "import matplotlib.pyplot as plt\n",
    "import scipy.stats"
   ]
  },
  {
   "cell_type": "code",
   "execution_count": 15,
   "id": "a8053a9e",
   "metadata": {},
   "outputs": [],
   "source": [
    "#Wczytanie zbioru z pliku CSV\n",
    "\n",
    "filename = 'starbucks.csv'\n",
    "data = pd.read_csv(filename, index_col='Unnamed: 0')"
   ]
  },
  {
   "cell_type": "code",
   "execution_count": 16,
   "id": "f5c9c225",
   "metadata": {},
   "outputs": [
    {
     "name": "stdout",
     "output_type": "stream",
     "text": [
      "Zbiór zawiera 77 obserwacji i 7 zmiennych.\n",
      "Lista zmiennych dostępnych w zbiorze: ['item', 'calories', 'fat', 'carb', 'fiber', 'protein', 'type']\n"
     ]
    }
   ],
   "source": [
    "#Podgląd zbioru\n",
    "data.head()\n",
    "print('Zbiór zawiera {} obserwacji i {} zmiennych.'.format(data.shape[0], data.shape[1]))\n",
    "print('Lista zmiennych dostępnych w zbiorze: {}'.format(list(data.columns)))"
   ]
  },
  {
   "cell_type": "markdown",
   "id": "b09d5aea",
   "metadata": {},
   "source": [
    "### Statystyka"
   ]
  },
  {
   "cell_type": "markdown",
   "id": "2014f034",
   "metadata": {},
   "source": [
    "#### Odchylenie standardowe"
   ]
  },
  {
   "cell_type": "code",
   "execution_count": 18,
   "id": "6f82ae6b",
   "metadata": {
    "scrolled": true
   },
   "outputs": [
    {
     "data": {
      "text/html": [
       "<div>\n",
       "<style scoped>\n",
       "    .dataframe tbody tr th:only-of-type {\n",
       "        vertical-align: middle;\n",
       "    }\n",
       "\n",
       "    .dataframe tbody tr th {\n",
       "        vertical-align: top;\n",
       "    }\n",
       "\n",
       "    .dataframe thead th {\n",
       "        text-align: right;\n",
       "    }\n",
       "</style>\n",
       "<table border=\"1\" class=\"dataframe\">\n",
       "  <thead>\n",
       "    <tr style=\"text-align: right;\">\n",
       "      <th></th>\n",
       "      <th>calories</th>\n",
       "      <th>fat</th>\n",
       "      <th>carb</th>\n",
       "      <th>fiber</th>\n",
       "      <th>protein</th>\n",
       "    </tr>\n",
       "  </thead>\n",
       "  <tbody>\n",
       "    <tr>\n",
       "      <th>std</th>\n",
       "      <td>105.368701</td>\n",
       "      <td>7.095488</td>\n",
       "      <td>16.551634</td>\n",
       "      <td>2.112764</td>\n",
       "      <td>8.079556</td>\n",
       "    </tr>\n",
       "  </tbody>\n",
       "</table>\n",
       "</div>"
      ],
      "text/plain": [
       "       calories       fat       carb     fiber   protein\n",
       "std  105.368701  7.095488  16.551634  2.112764  8.079556"
      ]
     },
     "execution_count": 18,
     "metadata": {},
     "output_type": "execute_result"
    }
   ],
   "source": [
    "#kolumny numeryczne\n",
    "columns=['calories', 'fat', 'carb', 'fiber', 'protein']\n",
    "#Odchylenie standardowe dla zbioru danych\n",
    "data[columns].agg(['std'])"
   ]
  },
  {
   "cell_type": "markdown",
   "id": "641e0430",
   "metadata": {},
   "source": [
    "#### Kwantyle"
   ]
  },
  {
   "cell_type": "code",
   "execution_count": 31,
   "id": "5053fd1d",
   "metadata": {},
   "outputs": [
    {
     "data": {
      "text/plain": [
       "calories    120.0\n",
       "fat           9.0\n",
       "carb         28.0\n",
       "fiber         4.0\n",
       "protein      10.0\n",
       "dtype: float64"
      ]
     },
     "execution_count": 31,
     "metadata": {},
     "output_type": "execute_result"
    }
   ],
   "source": [
    "#Wyliczenie kwantyli \n",
    "data[columns].quantile([0.01, 0.25, 0.5, 0.75, 0.99])\n",
    "q1 = data[columns].quantile(0.25) # wartości zmiennej na granicy pierwszego i drugiego kwartyla\n",
    "q3 = data[columns].quantile(0.75) # wartości zmiennej na granicy trzeciego i czwartego kwartyla\n",
    "iqr = q3 - q1 # rozstęp międzykwartylowy\n",
    "iqr #wartości rozstępu międzykwartylowego."
   ]
  },
  {
   "cell_type": "markdown",
   "id": "f6389a94",
   "metadata": {},
   "source": [
    "#### Wartości graniczne"
   ]
  },
  {
   "cell_type": "code",
   "execution_count": 32,
   "id": "e49a221d",
   "metadata": {},
   "outputs": [
    {
     "data": {
      "text/html": [
       "<div>\n",
       "<style scoped>\n",
       "    .dataframe tbody tr th:only-of-type {\n",
       "        vertical-align: middle;\n",
       "    }\n",
       "\n",
       "    .dataframe tbody tr th {\n",
       "        vertical-align: top;\n",
       "    }\n",
       "\n",
       "    .dataframe thead th {\n",
       "        text-align: right;\n",
       "    }\n",
       "</style>\n",
       "<table border=\"1\" class=\"dataframe\">\n",
       "  <thead>\n",
       "    <tr style=\"text-align: right;\">\n",
       "      <th></th>\n",
       "      <th>dolna_wartgran</th>\n",
       "      <th>gorna_wartgran</th>\n",
       "      <th>liczba wartości odstających poniżej granicy wyznaczonej przez q1</th>\n",
       "      <th>liczba wartości odstających powyżej granicy wyznaczonej przez q3</th>\n",
       "    </tr>\n",
       "  </thead>\n",
       "  <tbody>\n",
       "    <tr>\n",
       "      <th>calories</th>\n",
       "      <td>120.0</td>\n",
       "      <td>600.0</td>\n",
       "      <td>1</td>\n",
       "      <td>0</td>\n",
       "    </tr>\n",
       "    <tr>\n",
       "      <th>fat</th>\n",
       "      <td>-4.5</td>\n",
       "      <td>31.5</td>\n",
       "      <td>0</td>\n",
       "      <td>0</td>\n",
       "    </tr>\n",
       "    <tr>\n",
       "      <th>carb</th>\n",
       "      <td>-11.0</td>\n",
       "      <td>101.0</td>\n",
       "      <td>0</td>\n",
       "      <td>0</td>\n",
       "    </tr>\n",
       "    <tr>\n",
       "      <th>fiber</th>\n",
       "      <td>-6.0</td>\n",
       "      <td>10.0</td>\n",
       "      <td>0</td>\n",
       "      <td>0</td>\n",
       "    </tr>\n",
       "    <tr>\n",
       "      <th>protein</th>\n",
       "      <td>-10.0</td>\n",
       "      <td>30.0</td>\n",
       "      <td>0</td>\n",
       "      <td>2</td>\n",
       "    </tr>\n",
       "  </tbody>\n",
       "</table>\n",
       "</div>"
      ],
      "text/plain": [
       "          dolna_wartgran  gorna_wartgran  \\\n",
       "calories           120.0           600.0   \n",
       "fat                 -4.5            31.5   \n",
       "carb               -11.0           101.0   \n",
       "fiber               -6.0            10.0   \n",
       "protein            -10.0            30.0   \n",
       "\n",
       "          liczba wartości odstających poniżej granicy wyznaczonej przez q1  \\\n",
       "calories                                                  1                  \n",
       "fat                                                       0                  \n",
       "carb                                                      0                  \n",
       "fiber                                                     0                  \n",
       "protein                                                   0                  \n",
       "\n",
       "          liczba wartości odstających powyżej granicy wyznaczonej przez q3  \n",
       "calories                                                  0                 \n",
       "fat                                                       0                 \n",
       "carb                                                      0                 \n",
       "fiber                                                     0                 \n",
       "protein                                                   2                 "
      ]
     },
     "execution_count": 32,
     "metadata": {},
     "output_type": "execute_result"
    }
   ],
   "source": [
    "#lower_boundary i upper_boundary - są to wartości graniczne, czyli wcześniej wyznaczone q1 i q3,\n",
    "#num_of_outliers_L - jest to liczba wartości odstających \n",
    "# poniżej granicy wyznaczonej przez q1 - iqr (przyrostek L od ang. lower),\n",
    "#num_of_outliers_U - jest to liczba wartości odstających \n",
    "# powyżej granicy wyznaczonej przez q3 + iqr (przyrostek U od ang. upper)\n",
    "\n",
    "dolna_wartgran = (q1 - 1.5 * iqr)\n",
    "gorna_wartgran = (q3 + 1.5 * iqr)\n",
    "num_of_outliers_L = (data[iqr.index] < dolna_wartgran).sum()\n",
    "num_of_outliers_U = (data[iqr.index] > gorna_wartgran).sum()\n",
    "outliers_15iqr = pd.DataFrame({'dolna_wartgran':dolna_wartgran, 'gorna_wartgran':gorna_wartgran,'liczba wartości odstających poniżej granicy wyznaczonej przez q1':num_of_outliers_L, 'liczba wartości odstających powyżej granicy wyznaczonej przez q3':num_of_outliers_U})\n",
    "outliers_15iqr"
   ]
  },
  {
   "cell_type": "code",
   "execution_count": null,
   "id": "fcebec16",
   "metadata": {},
   "outputs": [],
   "source": []
  }
 ],
 "metadata": {
  "kernelspec": {
   "display_name": "Python 3 (ipykernel)",
   "language": "python",
   "name": "python3"
  },
  "language_info": {
   "codemirror_mode": {
    "name": "ipython",
    "version": 3
   },
   "file_extension": ".py",
   "mimetype": "text/x-python",
   "name": "python",
   "nbconvert_exporter": "python",
   "pygments_lexer": "ipython3",
   "version": "3.9.16"
  }
 },
 "nbformat": 4,
 "nbformat_minor": 5
}
