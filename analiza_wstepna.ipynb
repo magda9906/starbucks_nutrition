{
 "cells": [
  {
   "cell_type": "markdown",
   "id": "911b8866",
   "metadata": {},
   "source": [
    "## Analiza wstępna"
   ]
  },
  {
   "cell_type": "code",
   "execution_count": 1,
   "id": "3567375a",
   "metadata": {},
   "outputs": [],
   "source": [
    "import pandas as pd\n",
    "import seaborn as sns\n",
    "import matplotlib.pyplot as plt\n",
    "import scipy.stats"
   ]
  },
  {
   "cell_type": "code",
   "execution_count": 2,
   "id": "a8053a9e",
   "metadata": {},
   "outputs": [],
   "source": [
    "#Wczytanie zbioru z pliku CSV\n",
    "\n",
    "filename = 'starbucks.csv'\n",
    "data = pd.read_csv(filename, index_col='Unnamed: 0')"
   ]
  },
  {
   "cell_type": "markdown",
   "id": "33572314",
   "metadata": {},
   "source": [
    "#### Podgląd zbioru"
   ]
  },
  {
   "cell_type": "code",
   "execution_count": 3,
   "id": "f5c9c225",
   "metadata": {},
   "outputs": [
    {
     "data": {
      "text/html": [
       "<div>\n",
       "<style scoped>\n",
       "    .dataframe tbody tr th:only-of-type {\n",
       "        vertical-align: middle;\n",
       "    }\n",
       "\n",
       "    .dataframe tbody tr th {\n",
       "        vertical-align: top;\n",
       "    }\n",
       "\n",
       "    .dataframe thead th {\n",
       "        text-align: right;\n",
       "    }\n",
       "</style>\n",
       "<table border=\"1\" class=\"dataframe\">\n",
       "  <thead>\n",
       "    <tr style=\"text-align: right;\">\n",
       "      <th></th>\n",
       "      <th>item</th>\n",
       "      <th>calories</th>\n",
       "      <th>fat</th>\n",
       "      <th>carb</th>\n",
       "      <th>fiber</th>\n",
       "      <th>protein</th>\n",
       "      <th>type</th>\n",
       "    </tr>\n",
       "  </thead>\n",
       "  <tbody>\n",
       "    <tr>\n",
       "      <th>1</th>\n",
       "      <td>8-Grain Roll</td>\n",
       "      <td>350</td>\n",
       "      <td>8.0</td>\n",
       "      <td>67</td>\n",
       "      <td>5</td>\n",
       "      <td>10</td>\n",
       "      <td>bakery</td>\n",
       "    </tr>\n",
       "    <tr>\n",
       "      <th>2</th>\n",
       "      <td>Apple Bran Muffin</td>\n",
       "      <td>350</td>\n",
       "      <td>9.0</td>\n",
       "      <td>64</td>\n",
       "      <td>7</td>\n",
       "      <td>6</td>\n",
       "      <td>bakery</td>\n",
       "    </tr>\n",
       "    <tr>\n",
       "      <th>3</th>\n",
       "      <td>Apple Fritter</td>\n",
       "      <td>420</td>\n",
       "      <td>20.0</td>\n",
       "      <td>59</td>\n",
       "      <td>0</td>\n",
       "      <td>5</td>\n",
       "      <td>bakery</td>\n",
       "    </tr>\n",
       "    <tr>\n",
       "      <th>4</th>\n",
       "      <td>Banana Nut Loaf</td>\n",
       "      <td>490</td>\n",
       "      <td>19.0</td>\n",
       "      <td>75</td>\n",
       "      <td>4</td>\n",
       "      <td>7</td>\n",
       "      <td>bakery</td>\n",
       "    </tr>\n",
       "    <tr>\n",
       "      <th>5</th>\n",
       "      <td>Birthday Cake Mini Doughnut</td>\n",
       "      <td>130</td>\n",
       "      <td>6.0</td>\n",
       "      <td>17</td>\n",
       "      <td>0</td>\n",
       "      <td>0</td>\n",
       "      <td>bakery</td>\n",
       "    </tr>\n",
       "  </tbody>\n",
       "</table>\n",
       "</div>"
      ],
      "text/plain": [
       "                          item  calories   fat  carb  fiber  protein    type\n",
       "1                 8-Grain Roll       350   8.0    67      5       10  bakery\n",
       "2            Apple Bran Muffin       350   9.0    64      7        6  bakery\n",
       "3                Apple Fritter       420  20.0    59      0        5  bakery\n",
       "4              Banana Nut Loaf       490  19.0    75      4        7  bakery\n",
       "5  Birthday Cake Mini Doughnut       130   6.0    17      0        0  bakery"
      ]
     },
     "execution_count": 3,
     "metadata": {},
     "output_type": "execute_result"
    }
   ],
   "source": [
    "data.head()"
   ]
  },
  {
   "cell_type": "code",
   "execution_count": 4,
   "id": "9a5c82b1",
   "metadata": {},
   "outputs": [
    {
     "name": "stdout",
     "output_type": "stream",
     "text": [
      "['bakery' 'bistro box' 'petite' 'hot breakfast' 'salad' 'sandwich'\n",
      " 'parfait']\n"
     ]
    }
   ],
   "source": [
    "#Typy produktów, ostatnia kolumna\n",
    "unique_values = data.iloc[:, 6].unique()\n",
    "print(unique_values)"
   ]
  },
  {
   "cell_type": "code",
   "execution_count": 5,
   "id": "ef71f66d",
   "metadata": {},
   "outputs": [
    {
     "name": "stdout",
     "output_type": "stream",
     "text": [
      "bakery           41\n",
      "petite            9\n",
      "bistro box        8\n",
      "hot breakfast     8\n",
      "sandwich          7\n",
      "parfait           3\n",
      "salad             1\n",
      "Name: type, dtype: int64\n"
     ]
    }
   ],
   "source": [
    "# Policzenie ilości wystąpień dla każdej wartości w ostatniej kolumnie\n",
    "counts = data.iloc[:, -1].value_counts()\n",
    "# Wyświetlenie wyników\n",
    "print(counts)"
   ]
  },
  {
   "cell_type": "code",
   "execution_count": 6,
   "id": "5a75d383",
   "metadata": {},
   "outputs": [
    {
     "name": "stdout",
     "output_type": "stream",
     "text": [
      "                                     item  calories   fat  carb  fiber  \\\n",
      "1                            8-Grain Roll       350   8.0    67      5   \n",
      "2                       Apple Bran Muffin       350   9.0    64      7   \n",
      "3                           Apple Fritter       420  20.0    59      0   \n",
      "4                         Banana Nut Loaf       490  19.0    75      4   \n",
      "5             Birthday Cake Mini Doughnut       130   6.0    17      0   \n",
      "..                                    ...       ...   ...   ...    ...   \n",
      "73        Tarragon Chicken Salad Sandwich       420  13.0    46      6   \n",
      "74                Turkey & Swiss Sandwich       390  13.0    36      2   \n",
      "75             Greek Yogurt Honey Parfait       300  12.0    44      0   \n",
      "76         Peach Raspberry Yogurt Parfait       300   4.0    57      3   \n",
      "77  Strawberry & Blueberry Yogurt Parfait       300   3.5    60      3   \n",
      "\n",
      "    protein    type  \n",
      "1        10  bakery  \n",
      "2         6  bakery  \n",
      "3         5  bakery  \n",
      "4         7  bakery  \n",
      "5         0  bakery  \n",
      "..      ...     ...  \n",
      "73       32  others  \n",
      "74       34  others  \n",
      "75        8  others  \n",
      "76       10  others  \n",
      "77        7  others  \n",
      "\n",
      "[77 rows x 7 columns]\n"
     ]
    }
   ],
   "source": [
    "# Tworzenie słownika zamiany wartości\n",
    "replace_dict = {'bakery': 'bakery', 'petite': 'petite'}\n",
    "\n",
    "# Zamiana wartości innych niż \"bakery\" i \"petite\" na \"others\" w ostatniej kolumnie\n",
    "data['type'] = data['type'].map(replace_dict).fillna('others')\n",
    "\n",
    "# Wyświetlenie zmienionych danych\n",
    "print(data)"
   ]
  },
  {
   "cell_type": "code",
   "execution_count": 7,
   "id": "097535ba",
   "metadata": {},
   "outputs": [
    {
     "name": "stdout",
     "output_type": "stream",
     "text": [
      "bakery    41\n",
      "others    27\n",
      "petite     9\n",
      "Name: type, dtype: int64\n"
     ]
    }
   ],
   "source": [
    "#sprawdzenie\n",
    "# Policzenie ilości wystąpień dla każdej wartości w ostatniej kolumnie\n",
    "counts = data.iloc[:, -1].value_counts()\n",
    "# Wyświetlenie wyników\n",
    "print(counts)"
   ]
  },
  {
   "cell_type": "code",
   "execution_count": 114,
   "id": "ccce8b86",
   "metadata": {},
   "outputs": [
    {
     "name": "stdout",
     "output_type": "stream",
     "text": [
      "['bakery' 'others' 'petite']\n"
     ]
    }
   ],
   "source": [
    "#Typy produktów, ostatnia kolumna\n",
    "klasy = data.iloc[:, 6].unique()\n",
    "print(klasy)"
   ]
  },
  {
   "cell_type": "code",
   "execution_count": 8,
   "id": "835db563",
   "metadata": {},
   "outputs": [
    {
     "data": {
      "text/html": [
       "<div>\n",
       "<style scoped>\n",
       "    .dataframe tbody tr th:only-of-type {\n",
       "        vertical-align: middle;\n",
       "    }\n",
       "\n",
       "    .dataframe tbody tr th {\n",
       "        vertical-align: top;\n",
       "    }\n",
       "\n",
       "    .dataframe thead th {\n",
       "        text-align: right;\n",
       "    }\n",
       "</style>\n",
       "<table border=\"1\" class=\"dataframe\">\n",
       "  <thead>\n",
       "    <tr style=\"text-align: right;\">\n",
       "      <th></th>\n",
       "      <th>calories</th>\n",
       "      <th>fat</th>\n",
       "      <th>carb</th>\n",
       "      <th>fiber</th>\n",
       "      <th>protein</th>\n",
       "    </tr>\n",
       "  </thead>\n",
       "  <tbody>\n",
       "    <tr>\n",
       "      <th>count</th>\n",
       "      <td>77.000000</td>\n",
       "      <td>77.000000</td>\n",
       "      <td>77.000000</td>\n",
       "      <td>77.000000</td>\n",
       "      <td>77.000000</td>\n",
       "    </tr>\n",
       "    <tr>\n",
       "      <th>mean</th>\n",
       "      <td>338.831169</td>\n",
       "      <td>13.766234</td>\n",
       "      <td>44.870130</td>\n",
       "      <td>2.220779</td>\n",
       "      <td>9.480519</td>\n",
       "    </tr>\n",
       "    <tr>\n",
       "      <th>std</th>\n",
       "      <td>105.368701</td>\n",
       "      <td>7.095488</td>\n",
       "      <td>16.551634</td>\n",
       "      <td>2.112764</td>\n",
       "      <td>8.079556</td>\n",
       "    </tr>\n",
       "    <tr>\n",
       "      <th>min</th>\n",
       "      <td>80.000000</td>\n",
       "      <td>0.000000</td>\n",
       "      <td>16.000000</td>\n",
       "      <td>0.000000</td>\n",
       "      <td>0.000000</td>\n",
       "    </tr>\n",
       "    <tr>\n",
       "      <th>25%</th>\n",
       "      <td>300.000000</td>\n",
       "      <td>9.000000</td>\n",
       "      <td>31.000000</td>\n",
       "      <td>0.000000</td>\n",
       "      <td>5.000000</td>\n",
       "    </tr>\n",
       "    <tr>\n",
       "      <th>50%</th>\n",
       "      <td>350.000000</td>\n",
       "      <td>13.000000</td>\n",
       "      <td>45.000000</td>\n",
       "      <td>2.000000</td>\n",
       "      <td>7.000000</td>\n",
       "    </tr>\n",
       "    <tr>\n",
       "      <th>75%</th>\n",
       "      <td>420.000000</td>\n",
       "      <td>18.000000</td>\n",
       "      <td>59.000000</td>\n",
       "      <td>4.000000</td>\n",
       "      <td>15.000000</td>\n",
       "    </tr>\n",
       "    <tr>\n",
       "      <th>max</th>\n",
       "      <td>500.000000</td>\n",
       "      <td>28.000000</td>\n",
       "      <td>80.000000</td>\n",
       "      <td>7.000000</td>\n",
       "      <td>34.000000</td>\n",
       "    </tr>\n",
       "  </tbody>\n",
       "</table>\n",
       "</div>"
      ],
      "text/plain": [
       "         calories        fat       carb      fiber    protein\n",
       "count   77.000000  77.000000  77.000000  77.000000  77.000000\n",
       "mean   338.831169  13.766234  44.870130   2.220779   9.480519\n",
       "std    105.368701   7.095488  16.551634   2.112764   8.079556\n",
       "min     80.000000   0.000000  16.000000   0.000000   0.000000\n",
       "25%    300.000000   9.000000  31.000000   0.000000   5.000000\n",
       "50%    350.000000  13.000000  45.000000   2.000000   7.000000\n",
       "75%    420.000000  18.000000  59.000000   4.000000  15.000000\n",
       "max    500.000000  28.000000  80.000000   7.000000  34.000000"
      ]
     },
     "execution_count": 8,
     "metadata": {},
     "output_type": "execute_result"
    }
   ],
   "source": [
    "data.describe()"
   ]
  },
  {
   "cell_type": "code",
   "execution_count": 9,
   "id": "f29ee24e",
   "metadata": {},
   "outputs": [
    {
     "data": {
      "image/png": "[encoded data removed]",
      "text/plain": [
       "<Figure size 432x288 with 6 Axes>"
      ]
     },
     "metadata": {
      "needs_background": "light"
     },
     "output_type": "display_data"
    }
   ],
   "source": [
    "data.hist()\n",
    "plt.show()"
   ]
  },
  {
   "cell_type": "code",
   "execution_count": 10,
   "id": "fc5c0eb5",
   "metadata": {},
   "outputs": [
    {
     "data": {
      "image/png": "[encoded data removed]",
      "text/plain": [
       "<Figure size 432x288 with 9 Axes>"
      ]
     },
     "metadata": {
      "needs_background": "light"
     },
     "output_type": "display_data"
    }
   ],
   "source": [
    "data.plot(kind='density', subplots=True, layout=(3,3), sharex=False, legend=False)\n",
    "plt.show()"
   ]
  },
  {
   "cell_type": "code",
   "execution_count": 11,
   "id": "88eb10cb",
   "metadata": {},
   "outputs": [
    {
     "data": {
      "image/png": "[encoded data removed]",
      "text/plain": [
       "<Figure size 432x288 with 9 Axes>"
      ]
     },
     "metadata": {
      "needs_background": "light"
     },
     "output_type": "display_data"
    }
   ],
   "source": [
    "data.plot(kind='box', subplots=True, layout=(3,3), sharex=False)\n",
    "plt.show()"
   ]
  },
  {
   "cell_type": "code",
   "execution_count": 12,
   "id": "e3d47262",
   "metadata": {},
   "outputs": [],
   "source": [
    "#kolumny numeryczne\n",
    "columns=['calories', 'fat', 'carb', 'fiber', 'protein']"
   ]
  },
  {
   "cell_type": "code",
   "execution_count": 13,
   "id": "6b15aedd",
   "metadata": {},
   "outputs": [
    {
     "data": {
      "text/html": [
       "<div>\n",
       "<style scoped>\n",
       "    .dataframe tbody tr th:only-of-type {\n",
       "        vertical-align: middle;\n",
       "    }\n",
       "\n",
       "    .dataframe tbody tr th {\n",
       "        vertical-align: top;\n",
       "    }\n",
       "\n",
       "    .dataframe thead th {\n",
       "        text-align: right;\n",
       "    }\n",
       "</style>\n",
       "<table border=\"1\" class=\"dataframe\">\n",
       "  <thead>\n",
       "    <tr style=\"text-align: right;\">\n",
       "      <th></th>\n",
       "      <th>calories</th>\n",
       "      <th>fat</th>\n",
       "      <th>carb</th>\n",
       "      <th>fiber</th>\n",
       "      <th>protein</th>\n",
       "    </tr>\n",
       "  </thead>\n",
       "  <tbody>\n",
       "    <tr>\n",
       "      <th>calories</th>\n",
       "      <td>1.000000</td>\n",
       "      <td>0.758682</td>\n",
       "      <td>0.674999</td>\n",
       "      <td>0.260645</td>\n",
       "      <td>0.410398</td>\n",
       "    </tr>\n",
       "    <tr>\n",
       "      <th>fat</th>\n",
       "      <td>0.758682</td>\n",
       "      <td>1.000000</td>\n",
       "      <td>0.144547</td>\n",
       "      <td>-0.028549</td>\n",
       "      <td>0.223470</td>\n",
       "    </tr>\n",
       "    <tr>\n",
       "      <th>carb</th>\n",
       "      <td>0.674999</td>\n",
       "      <td>0.144547</td>\n",
       "      <td>1.000000</td>\n",
       "      <td>0.213044</td>\n",
       "      <td>-0.050789</td>\n",
       "    </tr>\n",
       "    <tr>\n",
       "      <th>fiber</th>\n",
       "      <td>0.260645</td>\n",
       "      <td>-0.028549</td>\n",
       "      <td>0.213044</td>\n",
       "      <td>1.000000</td>\n",
       "      <td>0.488564</td>\n",
       "    </tr>\n",
       "    <tr>\n",
       "      <th>protein</th>\n",
       "      <td>0.410398</td>\n",
       "      <td>0.223470</td>\n",
       "      <td>-0.050789</td>\n",
       "      <td>0.488564</td>\n",
       "      <td>1.000000</td>\n",
       "    </tr>\n",
       "  </tbody>\n",
       "</table>\n",
       "</div>"
      ],
      "text/plain": [
       "          calories       fat      carb     fiber   protein\n",
       "calories  1.000000  0.758682  0.674999  0.260645  0.410398\n",
       "fat       0.758682  1.000000  0.144547 -0.028549  0.223470\n",
       "carb      0.674999  0.144547  1.000000  0.213044 -0.050789\n",
       "fiber     0.260645 -0.028549  0.213044  1.000000  0.488564\n",
       "protein   0.410398  0.223470 -0.050789  0.488564  1.000000"
      ]
     },
     "execution_count": 13,
     "metadata": {},
     "output_type": "execute_result"
    }
   ],
   "source": [
    "data[columns].corr()"
   ]
  },
  {
   "cell_type": "code",
   "execution_count": 14,
   "id": "d7992d70",
   "metadata": {},
   "outputs": [
    {
     "data": {
      "image/png": "[encoded data removed]",
      "text/plain": [
       "<Figure size 288x288 with 2 Axes>"
      ]
     },
     "metadata": {
      "needs_background": "light"
     },
     "output_type": "display_data"
    }
   ],
   "source": [
    "plt.matshow(data[columns].corr())\n",
    "plt.colorbar()\n",
    "plt.show()"
   ]
  },
  {
   "cell_type": "code",
   "execution_count": 15,
   "id": "8f2da80f",
   "metadata": {},
   "outputs": [
    {
     "data": {
      "image/png": "[encoded data removed]",
      "text/plain": [
       "<Figure size 432x288 with 25 Axes>"
      ]
     },
     "metadata": {
      "needs_background": "light"
     },
     "output_type": "display_data"
    }
   ],
   "source": [
    "from pandas.plotting import scatter_matrix\n",
    "scatter_matrix(data)\n",
    "plt.show()"
   ]
  },
  {
   "cell_type": "markdown",
   "id": "f2c32f79",
   "metadata": {},
   "source": [
    "## Przygotowanie danych"
   ]
  },
  {
   "cell_type": "markdown",
   "id": "f779941e",
   "metadata": {},
   "source": [
    "### Skalowanie"
   ]
  },
  {
   "cell_type": "code",
   "execution_count": 16,
   "id": "30aab4d2",
   "metadata": {},
   "outputs": [],
   "source": [
    "X=data.values[:,1:6]\n",
    "Y=data.values[:,6]"
   ]
  },
  {
   "cell_type": "code",
   "execution_count": 17,
   "id": "c47ae59b",
   "metadata": {},
   "outputs": [
    {
     "name": "stdout",
     "output_type": "stream",
     "text": [
      "[[0.64285714 0.28571429 0.796875   0.71428571 0.29411765]\n",
      " [0.64285714 0.32142857 0.75       1.         0.17647059]\n",
      " [0.80952381 0.71428571 0.671875   0.         0.14705882]\n",
      " [0.97619048 0.67857143 0.921875   0.57142857 0.20588235]\n",
      " [0.11904762 0.21428571 0.015625   0.         0.        ]]\n"
     ]
    }
   ],
   "source": [
    "#skalowanie cech\n",
    "from sklearn.preprocessing import MinMaxScaler\n",
    "scaler=MinMaxScaler(feature_range=(0,1))\n",
    "X_rescaled=scaler.fit_transform(X)\n",
    "print(X_rescaled[0:5,:])"
   ]
  },
  {
   "cell_type": "code",
   "execution_count": 18,
   "id": "8b839970",
   "metadata": {},
   "outputs": [
    {
     "name": "stdout",
     "output_type": "stream",
     "text": [
      "[[ 0.10669269 -0.81799103  1.34578769  1.32406883  0.06471729]\n",
      " [ 0.10669269 -0.67613222  1.16334816  2.2769034  -0.43360587]\n",
      " [ 0.77538292  0.88431463  0.85928228 -1.05801761 -0.55818666]\n",
      " [ 1.44407315  0.74245582  1.8322931   0.84765154 -0.30902508]\n",
      " [-1.99490518 -1.10170864 -1.69487111 -1.05801761 -1.18109062]]\n"
     ]
    }
   ],
   "source": [
    "#standaryzacja cech\n",
    "from sklearn.preprocessing import StandardScaler\n",
    "scaler=StandardScaler()\n",
    "X_rescaled=scaler.fit_transform(X)\n",
    "print(X_rescaled[0:5,:])"
   ]
  },
  {
   "cell_type": "code",
   "execution_count": 19,
   "id": "700e8910",
   "metadata": {},
   "outputs": [
    {
     "name": "stdout",
     "output_type": "stream",
     "text": [
      "[[0.98143615 0.02243283 0.18787492 0.01402052 0.02804103]\n",
      " [0.98304524 0.02527831 0.17975684 0.0196609  0.0168522 ]\n",
      " [0.98910911 0.04710043 0.13894628 0.         0.01177511]\n",
      " [0.98763228 0.03829595 0.15116821 0.0080623  0.01410903]\n",
      " [0.99052111 0.04571636 0.12952968 0.         0.        ]]\n"
     ]
    }
   ],
   "source": [
    "#normalizacja wektora cech dla danego przykładu\n",
    "from sklearn.preprocessing import Normalizer\n",
    "scaler=Normalizer()\n",
    "X_rescaled=scaler.fit_transform(X)\n",
    "print(X_rescaled[0:5,:])"
   ]
  },
  {
   "cell_type": "markdown",
   "id": "9e9fd49c",
   "metadata": {},
   "source": [
    "### Selekcja cech"
   ]
  },
  {
   "cell_type": "code",
   "execution_count": 20,
   "id": "bc69e44c",
   "metadata": {},
   "outputs": [
    {
     "name": "stdout",
     "output_type": "stream",
     "text": [
      "[802.86965106  14.87201854 206.22810349  37.39589111 311.96090136]\n",
      "[[350 8.0 67 5 10]\n",
      " [350 9.0 64 7 6]\n",
      " [420 20.0 59 0 5]\n",
      " [490 19.0 75 4 7]\n",
      " [130 6.0 17 0 0]\n",
      " [370 14.0 47 5 6]\n",
      " [460 22.0 61 2 7]\n",
      " [370 14.0 55 0 6]\n",
      " [310 18.0 32 0 5]\n",
      " [420 25.0 39 0 7]\n",
      " [380 17.0 51 2 4]\n",
      " [320 12.0 53 3 6]\n",
      " [300 17.0 34 2 5]\n",
      " [420 21.0 57 2 5]\n",
      " [310 5.0 52 3 12]\n",
      " [480 18.0 70 3 7]\n",
      " [490 18.0 73 2 8]\n",
      " [410 24.0 46 3 6]\n",
      " [130 7.0 16 0 0]\n",
      " [280 2.0 56 2 10]\n",
      " [360 12.0 58 0 3]\n",
      " [490 23.0 67 0 5]\n",
      " [420 25.0 42 0 7]\n",
      " [440 18.0 59 3 8]\n",
      " [350 13.0 54 0 6]\n",
      " [210 4.0 43 0 0]\n",
      " [350 16.0 45 2 6]\n",
      " [300 3.0 60 6 15]\n",
      " [420 21.0 57 0 4]\n",
      " [370 14.0 56 3 5]\n",
      " [140 5.0 21 0 0]\n",
      " [280 1.0 59 2 9]\n",
      " [390 14.0 61 2 6]\n",
      " [480 17.0 78 2 6]\n",
      " [480 25.0 59 3 8]\n",
      " [430 16.0 69 0 4]\n",
      " [400 8.0 80 4 5]\n",
      " [340 9.0 62 2 4]\n",
      " [350 10.0 59 4 7]\n",
      " [440 19.0 63 0 6]\n",
      " [490 28.0 52 2 7]\n",
      " [480 28.0 39 6 18]\n",
      " [270 8.0 29 6 16]\n",
      " [360 19.0 32 4 17]\n",
      " [380 15.0 35 6 26]\n",
      " [380 19.0 37 5 13]\n",
      " [420 26.0 22 3 25]\n",
      " [350 11.0 50 6 15]\n",
      " [380 21.0 25 5 23]\n",
      " [180 7.0 27 0 2]\n",
      " [170 9.0 22 0 0]\n",
      " [190 12.0 24 0 2]\n",
      " [170 7.0 24 0 2]\n",
      " [190 11.0 23 0 0]\n",
      " [180 10.0 23 0 2]\n",
      " [160 8.0 24 0 2]\n",
      " [190 11.0 21 0 0]\n",
      " [170 9.0 22 0 0]\n",
      " [350 18.0 30 0 17]\n",
      " [300 10.0 33 5 14]\n",
      " [350 16.0 31 0 20]\n",
      " [500 28.0 41 0 19]\n",
      " [290 10.0 33 6 19]\n",
      " [140 2.5 25 4 5]\n",
      " [320 7.0 43 3 18]\n",
      " [350 18.0 30 0 17]\n",
      " [80 0.0 20 2 0]\n",
      " [400 11.0 47 2 26]\n",
      " [460 27.0 37 5 22]\n",
      " [360 9.0 43 2 28]\n",
      " [390 18.0 44 3 15]\n",
      " [350 12.0 48 4 13]\n",
      " [420 13.0 46 6 32]\n",
      " [390 13.0 36 2 34]\n",
      " [300 12.0 44 0 8]\n",
      " [300 4.0 57 3 10]\n",
      " [300 3.5 60 3 7]]\n"
     ]
    }
   ],
   "source": [
    "#analiza statystyczna\n",
    "from sklearn.feature_selection import chi2, SelectKBest\n",
    "\n",
    "selector=SelectKBest(score_func=chi2, k=5)\n",
    "test=selector.fit(X,Y)\n",
    "print(test.scores_)\n",
    "cechy=test.transform(X)\n",
    "print(cechy[:,0:5])"
   ]
  },
  {
   "cell_type": "code",
   "execution_count": 21,
   "id": "15ee93d7",
   "metadata": {},
   "outputs": [
    {
     "name": "stdout",
     "output_type": "stream",
     "text": [
      "liczba cech:  3\n",
      "maska wybranych cech:  [False  True False  True  True]\n",
      "ranking cech:  [3 1 2 1 1]\n"
     ]
    }
   ],
   "source": [
    "#Recursive Feature Extraction\n",
    "from sklearn.linear_model import LogisticRegression\n",
    "from sklearn.feature_selection import RFE\n",
    "\n",
    "X=data.values[:,1:6]\n",
    "Y=data.values[:,6]\n",
    "model=LogisticRegression(max_iter=int(1e6))\n",
    "rfe=RFE(model, n_features_to_select=3)\n",
    "test=rfe.fit(X,Y)\n",
    "\n",
    "print(\"liczba cech: \", test.n_features_)\n",
    "print(\"maska wybranych cech: \", test.support_)\n",
    "print(\"ranking cech: \", test.ranking_)"
   ]
  },
  {
   "cell_type": "code",
   "execution_count": 22,
   "id": "b1fff90c",
   "metadata": {},
   "outputs": [
    {
     "name": "stdout",
     "output_type": "stream",
     "text": [
      "komponenty:  [[-9.92556929e-01 -5.03819054e-02 -1.06336195e-01 -5.20422686e-03\n",
      "  -3.09505258e-02]\n",
      " [ 7.47238935e-02  2.49314488e-01 -9.09772915e-01  8.68500562e-04\n",
      "   3.23374574e-01]\n",
      " [-2.35146990e-02 -4.55330805e-01  1.77903359e-01  1.63675758e-01\n",
      "   8.56552134e-01]]\n",
      "wyjaśniona wariancja:  [0.9801737  0.01522375 0.00426738]\n",
      "[[350 8.0 67 5 10]\n",
      " [350 9.0 64 7 6]\n",
      " [420 20.0 59 0 5]\n",
      " [490 19.0 75 4 7]\n",
      " [130 6.0 17 0 0]\n",
      " [370 14.0 47 5 6]\n",
      " [460 22.0 61 2 7]\n",
      " [370 14.0 55 0 6]\n",
      " [310 18.0 32 0 5]\n",
      " [420 25.0 39 0 7]\n",
      " [380 17.0 51 2 4]\n",
      " [320 12.0 53 3 6]\n",
      " [300 17.0 34 2 5]\n",
      " [420 21.0 57 2 5]\n",
      " [310 5.0 52 3 12]\n",
      " [480 18.0 70 3 7]\n",
      " [490 18.0 73 2 8]\n",
      " [410 24.0 46 3 6]\n",
      " [130 7.0 16 0 0]\n",
      " [280 2.0 56 2 10]\n",
      " [360 12.0 58 0 3]\n",
      " [490 23.0 67 0 5]\n",
      " [420 25.0 42 0 7]\n",
      " [440 18.0 59 3 8]\n",
      " [350 13.0 54 0 6]\n",
      " [210 4.0 43 0 0]\n",
      " [350 16.0 45 2 6]\n",
      " [300 3.0 60 6 15]\n",
      " [420 21.0 57 0 4]\n",
      " [370 14.0 56 3 5]\n",
      " [140 5.0 21 0 0]\n",
      " [280 1.0 59 2 9]\n",
      " [390 14.0 61 2 6]\n",
      " [480 17.0 78 2 6]\n",
      " [480 25.0 59 3 8]\n",
      " [430 16.0 69 0 4]\n",
      " [400 8.0 80 4 5]\n",
      " [340 9.0 62 2 4]\n",
      " [350 10.0 59 4 7]\n",
      " [440 19.0 63 0 6]\n",
      " [490 28.0 52 2 7]\n",
      " [480 28.0 39 6 18]\n",
      " [270 8.0 29 6 16]\n",
      " [360 19.0 32 4 17]\n",
      " [380 15.0 35 6 26]\n",
      " [380 19.0 37 5 13]\n",
      " [420 26.0 22 3 25]\n",
      " [350 11.0 50 6 15]\n",
      " [380 21.0 25 5 23]\n",
      " [180 7.0 27 0 2]\n",
      " [170 9.0 22 0 0]\n",
      " [190 12.0 24 0 2]\n",
      " [170 7.0 24 0 2]\n",
      " [190 11.0 23 0 0]\n",
      " [180 10.0 23 0 2]\n",
      " [160 8.0 24 0 2]\n",
      " [190 11.0 21 0 0]\n",
      " [170 9.0 22 0 0]\n",
      " [350 18.0 30 0 17]\n",
      " [300 10.0 33 5 14]\n",
      " [350 16.0 31 0 20]\n",
      " [500 28.0 41 0 19]\n",
      " [290 10.0 33 6 19]\n",
      " [140 2.5 25 4 5]\n",
      " [320 7.0 43 3 18]\n",
      " [350 18.0 30 0 17]\n",
      " [80 0.0 20 2 0]\n",
      " [400 11.0 47 2 26]\n",
      " [460 27.0 37 5 22]\n",
      " [360 9.0 43 2 28]\n",
      " [390 18.0 44 3 15]\n",
      " [350 12.0 48 4 13]\n",
      " [420 13.0 46 6 32]\n",
      " [390 13.0 36 2 34]\n",
      " [300 12.0 44 0 8]\n",
      " [300 4.0 57 3 10]\n",
      " [300 3.5 60 3 7]]\n",
      "[[-1.31789350e+01 -2.05657830e+01  7.19974361e+00]\n",
      " [-1.27969147e+01 -1.88789110e+01  3.11184571e+00]\n",
      " [-8.22310396e+01 -6.68636863e+00 -6.43462132e+00]\n",
      " [-1.53443740e+02 -1.56111541e+01 -2.41105840e+00]\n",
      " [ 2.10936689e+02  4.74688897e+00 -4.99542908e+00]\n",
      " [-3.10818390e+01 -6.73458175e-01 -2.98681092e+00]\n",
      " [-1.22319062e+02 -4.36984359e+00 -5.88960839e+00]\n",
      " [-3.19065074e+01 -7.95598400e+00 -2.38196284e+00]\n",
      " [ 2.99220637e+01  9.15924281e+00 -7.74073351e+00]\n",
      " [-8.04181263e+01  1.34024113e+01 -1.05562383e+01]\n",
      " [-4.15063851e+01 -3.46672209e+00 -6.08046843e+00]\n",
      " [ 1.80191625e+01 -1.03686563e+01 -1.60345721e-01]\n",
      " [ 3.96749341e+01  6.34488056e+00 -6.36709748e+00]\n",
      " [-8.20791576e+01 -4.61577131e+00 -6.91840732e+00]\n",
      " [ 2.82180382e+01 -1.00110763e+01  8.22352635e+00]\n",
      " [-1.42930903e+02 -1.20597114e+01 -2.77377316e+00]\n",
      " [-1.53201228e+02 -1.37192851e+01 -1.78233369e+00]\n",
      " [-7.11711906e+01  5.71667836e+00 -8.98596181e+00]\n",
      " [ 2.10992644e+02  5.90597638e+00 -5.62866325e+00]\n",
      " [ 5.77876523e+01 -1.72874459e+01  9.12979314e+00]\n",
      " [-2.21063314e+01 -1.29012944e+01 -3.27210056e+00]\n",
      " [-1.52711860e+02 -7.98593593e+00 -8.02341579e+00]\n",
      " [-8.07371349e+01  1.06730925e+01 -1.00225282e+01]\n",
      " [-1.02089879e+02 -4.71779051e+00 -2.93357001e+00]\n",
      " [-1.18986508e+01 -8.79000344e+00 -1.63424141e+00]\n",
      " [ 1.28868158e+02 -1.34279243e+01 -1.34045606e+00]\n",
      " [-1.11031792e+01  1.47633258e-01 -4.27401254e+00]\n",
      " [ 3.72852175e+01 -1.75623983e+01  1.38532455e+01]\n",
      " [-8.20377986e+01 -4.94088288e+00 -8.10231097e+00]\n",
      " [-3.19975058e+01 -9.18652598e+00 -2.56958434e+00]\n",
      " [ 2.00636157e+02  1.60572176e+00 -4.06363183e+00]\n",
      " [ 5.75499762e+01 -2.05894537e+01  9.26228189e+00]\n",
      " [-5.24060717e+01 -1.19184066e+01 -1.45748515e+00]\n",
      " [-1.43695056e+02 -1.99114523e+01 -1.91544337e+00]\n",
      " [-1.42144829e+02  1.63666476e-02 -7.06147361e+00]\n",
      " [-9.29874927e+01 -1.63574914e+01 -3.92596363e+00]\n",
      " [-6.40291952e+01 -3.02743776e+01  3.89031590e+00]\n",
      " [-2.57075081e+00 -1.84576958e+01  4.59702919e-01]\n",
      " [-1.23309535e+01 -1.37599629e+01  2.13252296e+00]\n",
      " [-1.02488092e+02 -8.75692233e+00 -4.88141892e+00]\n",
      " [-1.51441036e+02  7.55571638e+00 -1.09281644e+01]\n",
      " [-1.40494369e+02  2.21961196e+01 -2.92898459e+00]\n",
      " [ 7.00754874e+01  9.96879225e+00  7.62358045e+00]\n",
      " [-2.01483879e+01  1.70287209e+01  1.56152937e+00]\n",
      " [-4.04059706e+01  1.77087302e+01  1.14825894e+01]\n",
      " [-4.04126096e+01  1.26817044e+01 -1.28178059e+00]\n",
      " [-7.92335150e+01  3.49412131e+01  1.87303952e+00]\n",
      " [-1.16823223e+01 -2.73395859e+00  7.25583052e+00]\n",
      " [-3.95468443e+01  2.73313541e+01  4.23823883e+00]\n",
      " [ 1.60133198e+02  2.81418138e-01 -3.13435698e+00]\n",
      " [ 1.70551586e+02  3.93492360e+00 -6.41249266e+00]\n",
      " [ 1.50274728e+02  5.00454826e+00 -6.17986807e+00]\n",
      " [ 1.70377776e+02  2.26349795e+00 -3.43292007e+00]\n",
      " [ 1.50493347e+02  5.01825754e+00 -7.61554489e+00]\n",
      " [ 1.60407397e+02  4.66845326e+00 -5.21196283e+00]\n",
      " [ 1.80252963e+02  1.76557350e+00 -3.65310388e+00]\n",
      " [ 1.50706019e+02  6.83780337e+00 -7.97135161e+00]\n",
      " [ 1.70551586e+02  3.93492360e+00 -6.41249266e+00]\n",
      " [-9.93894739e+00  1.78482393e+01  1.24149742e+00]\n",
      " [ 3.98397762e+01  8.42242873e+00  4.84231127e+00]\n",
      " [-1.00373713e+01  1.74099611e+01  4.89971879e+00]\n",
      " [-1.60557905e+02  2.21892153e+01 -3.16897427e+00]\n",
      " [ 4.96053886e+01  9.29293116e+00  9.52389469e+00]\n",
      " [ 2.00161198e+02 -1.03630924e+00  2.72377232e+00]\n",
      " [ 1.89630277e+01  1.36299528e+00  1.06159003e+01]\n",
      " [-9.93894739e+00  1.78482393e+01  1.24149742e+00]\n",
      " [ 2.60537410e+02 -3.21277437e+00 -2.26647707e-01]\n",
      " [-6.13107990e+01  7.28520114e+00  1.43137559e+01]\n",
      " [-1.20498774e+02  2.35645029e+01  9.03366255e-01]\n",
      " [-2.11443143e+01  8.08345724e+00  1.71664963e+01]\n",
      " [-5.10836429e+01  7.45623056e+00  1.56947949e+00]\n",
      " [-1.14477223e+01 -1.31358442e+00  4.40423721e+00]\n",
      " [-8.13628853e+01  1.21318024e+01  1.85489128e+01]\n",
      " [-5.05638996e+01  1.96310898e+01  1.85337214e+01]\n",
      " [ 3.87810385e+01 -3.03103431e+00 -6.91049795e-02]\n",
      " [ 3.77242095e+01 -1.62032435e+01  8.09041667e+00]\n",
      " [ 3.75232434e+01 -2.00273432e+01  6.28213575e+00]]\n"
     ]
    }
   ],
   "source": [
    "# redukcja wymiarowości\n",
    "from sklearn.decomposition import PCA\n",
    "pca=PCA(n_components=3)\n",
    "test=pca.fit(X)\n",
    "print(\"komponenty: \", test.components_)\n",
    "print(\"wyjaśniona wariancja: \", test.explained_variance_ratio_)\n",
    "X_PCA=pca.fit_transform(X);\n",
    "print(X)\n",
    "print(X_PCA)"
   ]
  },
  {
   "cell_type": "code",
   "execution_count": 23,
   "id": "eb63f056",
   "metadata": {},
   "outputs": [
    {
     "name": "stdout",
     "output_type": "stream",
     "text": [
      "[0.17698859 0.11275816 0.24834057 0.10471581 0.35719688]\n"
     ]
    }
   ],
   "source": [
    "# feature importance by decision tree\n",
    "from sklearn.ensemble import ExtraTreesClassifier\n",
    "model=ExtraTreesClassifier()\n",
    "test=model.fit(X,Y)\n",
    "print(test.feature_importances_)"
   ]
  },
  {
   "cell_type": "markdown",
   "id": "d5635a6a",
   "metadata": {},
   "source": [
    "### Testowanie modelu"
   ]
  },
  {
   "cell_type": "code",
   "execution_count": 24,
   "id": "0aa2d437",
   "metadata": {},
   "outputs": [
    {
     "name": "stdout",
     "output_type": "stream",
     "text": [
      "Dokładność:  0.9166666666666666\n"
     ]
    }
   ],
   "source": [
    "#Holdout\n",
    "from sklearn.model_selection import train_test_split\n",
    "X_train, X_test, Y_train, Y_test=train_test_split(X,Y, test_size=0.30, random_state=10)\n",
    "model=LogisticRegression(max_iter=int(1e6))\n",
    "model.fit(X_train, Y_train)\n",
    "metryka=model.score(X_test, Y_test)\n",
    "print(\"Dokładność: \",metryka)"
   ]
  },
  {
   "cell_type": "code",
   "execution_count": 25,
   "id": "2f83ef6d",
   "metadata": {},
   "outputs": [
    {
     "name": "stdout",
     "output_type": "stream",
     "text": [
      "Dokładność:  [0.92307692 0.92307692 0.61538462 0.76923077 0.69230769 0.91666667]\n",
      "Średnia dokładność:  0.8066239316239318\n"
     ]
    }
   ],
   "source": [
    "#k-fold CV\n",
    "from sklearn.model_selection import KFold, cross_val_score\n",
    "kfold=KFold(n_splits=6, random_state=10, shuffle=True)\n",
    "model=LogisticRegression(max_iter=int(1e6),solver='saga')\n",
    "metryka=cross_val_score(model, X, Y, cv=kfold)\n",
    "print(\"Dokładność: \",metryka)\n",
    "print(\"Średnia dokładność: \", metryka.mean())"
   ]
  },
  {
   "cell_type": "code",
   "execution_count": 26,
   "id": "5dfc7cf1",
   "metadata": {},
   "outputs": [
    {
     "name": "stdout",
     "output_type": "stream",
     "text": [
      "Dokładność:  [1. 1. 1. 1. 1. 1. 1. 1. 1. 1. 1. 1. 1. 1. 0. 1. 1. 1. 0. 1. 1. 1. 1. 1.\n",
      " 1. 1. 1. 0. 1. 1. 1. 1. 1. 1. 1. 1. 1. 1. 1. 1. 1. 1. 1. 1. 1. 1. 1. 1.\n",
      " 1. 0. 0. 0. 0. 0. 0. 0. 0. 0. 1. 1. 1. 1. 1. 0. 1. 1. 0. 1. 1. 1. 1. 1.\n",
      " 1. 1. 0. 0. 0.]\n",
      "Średnia dokładność:  0.7792207792207793\n"
     ]
    }
   ],
   "source": [
    "#LOO\n",
    "from sklearn.model_selection import LeaveOneOut, cross_val_score\n",
    "cv=LeaveOneOut()\n",
    "model=LogisticRegression(max_iter=int(1e6),solver='saga')\n",
    "metryka=cross_val_score(model, X, Y, cv=cv)\n",
    "print(\"Dokładność: \", metryka)\n",
    "print(\"Średnia dokładność: \", metryka.mean())"
   ]
  },
  {
   "cell_type": "code",
   "execution_count": 27,
   "id": "99e77bee",
   "metadata": {},
   "outputs": [
    {
     "name": "stdout",
     "output_type": "stream",
     "text": [
      "Dokładność:  [0.91666667 0.79166667 0.75       0.70833333 0.83333333 0.79166667]\n",
      "Średnia dokładność:  0.7986111111111112\n"
     ]
    }
   ],
   "source": [
    "#Holdout robiony n razy\n",
    "from sklearn.model_selection import ShuffleSplit, cross_val_score\n",
    "kfold=ShuffleSplit(n_splits=6, test_size=0.3, random_state=10)\n",
    "model=LogisticRegression(max_iter=int(1e6))\n",
    "metryka=cross_val_score(model, X, Y, cv=kfold)\n",
    "print(\"Dokładność: \",metryka)\n",
    "print(\"Średnia dokładność: \", metryka.mean())"
   ]
  },
  {
   "cell_type": "markdown",
   "id": "364b6f99",
   "metadata": {},
   "source": [
    "## Metryki"
   ]
  },
  {
   "cell_type": "code",
   "execution_count": 28,
   "id": "ec4c0902",
   "metadata": {},
   "outputs": [
    {
     "name": "stdout",
     "output_type": "stream",
     "text": [
      "Średnia dokładność:  0.8053571428571427  +/-  0.14691773694340457\n",
      "Średnia czułość:  0.7316666666666667  +/-  0.1938570492800186\n",
      "Średnie F1-score:  0.6914935064935065  +/-  0.2196881206500558\n"
     ]
    }
   ],
   "source": [
    "from sklearn.model_selection import KFold, cross_val_score\n",
    "from sklearn.metrics import precision_score, recall_score, f1_score, make_scorer\n",
    "kfold=KFold(n_splits=10, random_state=10, shuffle=True)\n",
    "model=LogisticRegression(max_iter=int(1e6),solver='saga')\n",
    "rezultat=cross_val_score(model, X, Y, cv=kfold, scoring='accuracy')\n",
    "\n",
    "\n",
    "#dla klasyfikacji wieloklasowej nie da się policzyć ROC AUC w prosty sposób, można za to:\n",
    "recall = cross_val_score(model, X, Y, cv=kfold, scoring='recall_macro')\n",
    "f1 = cross_val_score(model, X, Y, cv=kfold, scoring='f1_macro')\n",
    "\n",
    "print(\"Średnia dokładność: \", rezultat.mean(),' +/- ', rezultat.std())\n",
    "print(\"Średnia czułość: \", recall.mean(), ' +/- ', recall.std())\n",
    "print(\"Średnie F1-score: \", f1.mean(), ' +/- ', f1.std())\n",
    "# z precission jest jakiś błąd"
   ]
  },
  {
   "cell_type": "code",
   "execution_count": 29,
   "id": "97de7965",
   "metadata": {},
   "outputs": [
    {
     "ename": "AttributeError",
     "evalue": "module 'sklearn.metrics' has no attribute 'get_scorer_names'",
     "output_type": "error",
     "traceback": [
      "\u001b[1;31m---------------------------------------------------------------------------\u001b[0m",
      "\u001b[1;31mAttributeError\u001b[0m                            Traceback (most recent call last)",
      "\u001b[1;32m~\\AppData\\Local\\Temp/ipykernel_12332/2908376104.py\u001b[0m in \u001b[0;36m<module>\u001b[1;34m\u001b[0m\n\u001b[0;32m      1\u001b[0m \u001b[1;32mimport\u001b[0m \u001b[0msklearn\u001b[0m\u001b[1;33m.\u001b[0m\u001b[0mmetrics\u001b[0m \u001b[1;32mas\u001b[0m \u001b[0msm\u001b[0m\u001b[1;33m\u001b[0m\u001b[1;33m\u001b[0m\u001b[0m\n\u001b[1;32m----> 2\u001b[1;33m \u001b[0msm\u001b[0m\u001b[1;33m.\u001b[0m\u001b[0mget_scorer_names\u001b[0m\u001b[1;33m(\u001b[0m\u001b[1;33m)\u001b[0m\u001b[1;33m\u001b[0m\u001b[1;33m\u001b[0m\u001b[0m\n\u001b[0m",
      "\u001b[1;31mAttributeError\u001b[0m: module 'sklearn.metrics' has no attribute 'get_scorer_names'"
     ]
    }
   ],
   "source": [
    "import sklearn.metrics as sm\n",
    "sm.get_scorer_names()"
   ]
  },
  {
   "cell_type": "code",
   "execution_count": null,
   "id": "e3551c3f",
   "metadata": {},
   "outputs": [],
   "source": [
    "#Holdout i różne metryki\n",
    "from sklearn.model_selection import train_test_split\n",
    "from sklearn.metrics import classification_report\n",
    "X_train, X_test, Y_train, Y_test=train_test_split(X,Y, test_size=0.30,\n",
    "                                                 random_state=10)\n",
    "model=LogisticRegression(max_iter=int(1e6),)\n",
    "model.fit(X_train, Y_train)\n",
    "Y_predicted=model.predict(X_test)\n",
    "raport=classification_report(Y_test, Y_predicted)\n",
    "print(raport)"
   ]
  },
  {
   "cell_type": "markdown",
   "id": "3d414c3a",
   "metadata": {},
   "source": [
    "## K-NN"
   ]
  },
  {
   "cell_type": "code",
   "execution_count": null,
   "id": "5bf5001e",
   "metadata": {},
   "outputs": [],
   "source": [
    "from sklearn.neighbors import KNeighborsClassifier\n",
    "from sklearn.model_selection import train_test_split\n",
    "from sklearn.preprocessing import LabelEncoder\n",
    "from sklearn.metrics import classification_report\n",
    "# Podziel dane na cechy (X) i etykiety (Y)\n",
    "X=data.values[:,1:6]\n",
    "Y=data.values[:,6]\n",
    "\n",
    "# Zastosuj kodowanie etykiet\n",
    "label_encoder = LabelEncoder()\n",
    "Y = label_encoder.fit_transform(Y)\n",
    "\n",
    "X_train, X_test, Y_train, Y_test = train_test_split(X, Y, test_size=0.3, random_state=10)\n",
    "\n",
    "k = 5  # liczba sąsiadów\n",
    "model = KNeighborsClassifier(n_neighbors=k)\n",
    "model.fit(X_train, Y_train)\n",
    "\n",
    "Y_pred = model.predict(X_test)\n",
    "\n",
    "print(classification_report(Y_test, Y_pred))\n",
    "cm = confusion_matrix(y_test_hold_out, y_predictions)\n",
    "disp = ConfusionMatrixDisplay(cm)\n",
    "disp.plot()\n",
    "plt.show()"
   ]
  },
  {
   "cell_type": "code",
   "execution_count": 30,
   "id": "a2c40cf2",
   "metadata": {},
   "outputs": [
    {
     "name": "stdout",
     "output_type": "stream",
     "text": [
      "Best number of neighbours is  1\n",
      "              precision    recall  f1-score   support\n",
      "\n",
      "      bakery       0.67      1.00      0.80         6\n",
      "      others       1.00      0.57      0.73         7\n",
      "      petite       1.00      1.00      1.00         3\n",
      "\n",
      "    accuracy                           0.81        16\n",
      "   macro avg       0.89      0.86      0.84        16\n",
      "weighted avg       0.88      0.81      0.81        16\n",
      "\n"
     ]
    },
    {
     "data": {
      "image/png": "[encoded data removed]",
      "text/plain": [
       "<Figure size 432x288 with 2 Axes>"
      ]
     },
     "metadata": {
      "needs_background": "light"
     },
     "output_type": "display_data"
    }
   ],
   "source": [
    "from sklearn.neighbors import KNeighborsClassifier\n",
    "import sklearn.datasets as ds\n",
    "from sklearn.model_selection import train_test_split\n",
    "from sklearn.metrics import accuracy_score, classification_report, confusion_matrix, ConfusionMatrixDisplay\n",
    "import matplotlib.pyplot as plt\n",
    "\n",
    "X=data.values[:,1:6]\n",
    "y=data.values[:,6]\n",
    "X_train_hold_out, X_test_hold_out, y_train_hold_out, y_test_hold_out = train_test_split(X, y, test_size=0.2)\n",
    "\n",
    "i_for_best_acc = 0\n",
    "best_acc = 0\n",
    "best_knn = 0\n",
    "\n",
    "for i in range(1, 21):\n",
    "    kn = KNeighborsClassifier(n_neighbors=i).fit(X_train_hold_out, y_train_hold_out)\n",
    "    y_predictions = kn.predict(X_test_hold_out)\n",
    "    acc = accuracy_score(y_test_hold_out, y_predictions)\n",
    "    if acc > best_acc:\n",
    "        best_acc = acc\n",
    "        i_for_best_acc = i\n",
    "        best_knn = kn\n",
    "\n",
    "print('Best number of neighbours is ', i_for_best_acc)\n",
    "y_predictions = best_knn.predict(X_test_hold_out)\n",
    "\n",
    "print(classification_report(y_test_hold_out, y_predictions))\n",
    "cm = confusion_matrix(y_test_hold_out, y_predictions)\n",
    "disp = ConfusionMatrixDisplay(cm)\n",
    "disp.plot()\n",
    "plt.show()"
   ]
  },
  {
   "cell_type": "markdown",
   "id": "64b47028",
   "metadata": {},
   "source": [
    "## Drzewo decyzyjne"
   ]
  },
  {
   "cell_type": "code",
   "execution_count": 34,
   "id": "1b14972f",
   "metadata": {},
   "outputs": [
    {
     "name": "stdout",
     "output_type": "stream",
     "text": [
      "Accuracy: 0.75\n"
     ]
    }
   ],
   "source": [
    "import urllib\n",
    "from sklearn.tree import DecisionTreeClassifier\n",
    "from sklearn.model_selection import train_test_split\n",
    "from sklearn import metrics\n",
    "\n",
    "X_train, X_test, Y_train, Y_test = train_test_split(X, Y, test_size=0.3, random_state=1)\n",
    "\n",
    "clf = DecisionTreeClassifier()\n",
    "clf = clf.fit(X_train,Y_train)\n",
    "Y_pred = clf.predict(X_test)\n",
    "\n",
    "print(\"Accuracy:\",metrics.accuracy_score(Y_test, Y_pred))"
   ]
  },
  {
   "cell_type": "code",
   "execution_count": 36,
   "id": "0962429e",
   "metadata": {},
   "outputs": [],
   "source": [
    "# -------------------------------"
   ]
  },
  {
   "cell_type": "code",
   "execution_count": 37,
   "id": "cbf13b2e",
   "metadata": {},
   "outputs": [],
   "source": [
    "from sklearn import tree\n",
    "from sklearn.model_selection import train_test_split\n",
    "from sklearn.metrics import classification_report\n",
    "\n",
    "X_train, X_test, y_train, y_test = train_test_split(X, Y, test_size=.2, random_state=0)\n",
    "\n",
    "clf = tree.DecisionTreeClassifier()\n",
    "clf = clf.fit(X_train, y_train)\n",
    "\n",
    "clf.score(X_test, y_test)\n",
    "y_pred = clf.predict(X_test)"
   ]
  },
  {
   "cell_type": "code",
   "execution_count": 38,
   "id": "201386dc",
   "metadata": {},
   "outputs": [
    {
     "data": {
      "text/plain": [
       "[Text(223.20000000000002, 195.696, 'X[4] <= 12.5\\ngini = 0.567\\nsamples = 61\\nvalue = [35, 18, 8]'),\n",
       " Text(186.0, 152.208, 'X[0] <= 200.0\\ngini = 0.409\\nsamples = 47\\nvalue = [35, 4, 8]'),\n",
       " Text(111.60000000000001, 108.72, 'X[0] <= 150.0\\ngini = 0.544\\nsamples = 13\\nvalue = [3, 2, 8]'),\n",
       " Text(74.4, 65.232, 'X[3] <= 1.0\\ngini = 0.48\\nsamples = 5\\nvalue = [3, 2, 0]'),\n",
       " Text(37.2, 21.744, 'gini = 0.0\\nsamples = 3\\nvalue = [3, 0, 0]'),\n",
       " Text(111.60000000000001, 21.744, 'gini = 0.0\\nsamples = 2\\nvalue = [0, 2, 0]'),\n",
       " Text(148.8, 65.232, 'gini = 0.0\\nsamples = 8\\nvalue = [0, 0, 8]'),\n",
       " Text(260.40000000000003, 108.72, 'X[1] <= 4.5\\ngini = 0.111\\nsamples = 34\\nvalue = [32, 2, 0]'),\n",
       " Text(223.20000000000002, 65.232, 'X[3] <= 2.5\\ngini = 0.48\\nsamples = 5\\nvalue = [3, 2, 0]'),\n",
       " Text(186.0, 21.744, 'gini = 0.0\\nsamples = 3\\nvalue = [3, 0, 0]'),\n",
       " Text(260.40000000000003, 21.744, 'gini = 0.0\\nsamples = 2\\nvalue = [0, 2, 0]'),\n",
       " Text(297.6, 65.232, 'gini = 0.0\\nsamples = 29\\nvalue = [29, 0, 0]'),\n",
       " Text(260.40000000000003, 152.208, 'gini = 0.0\\nsamples = 14\\nvalue = [0, 14, 0]')]"
      ]
     },
     "execution_count": 38,
     "metadata": {},
     "output_type": "execute_result"
    },
    {
     "data": {
      "image/png": "[encoded data removed]",
      "text/plain": [
       "<Figure size 432x288 with 1 Axes>"
      ]
     },
     "metadata": {
      "needs_background": "light"
     },
     "output_type": "display_data"
    }
   ],
   "source": [
    "tree.plot_tree(clf)"
   ]
  },
  {
   "cell_type": "code",
   "execution_count": 39,
   "id": "708c9205",
   "metadata": {},
   "outputs": [
    {
     "name": "stdout",
     "output_type": "stream",
     "text": [
      "DecisionTreeClassifier()\n"
     ]
    }
   ],
   "source": [
    "print(clf)"
   ]
  },
  {
   "cell_type": "code",
   "execution_count": 40,
   "id": "7af98829",
   "metadata": {},
   "outputs": [
    {
     "name": "stdout",
     "output_type": "stream",
     "text": [
      "Number of mislabeled points out of a total 16 points : 2\n"
     ]
    }
   ],
   "source": [
    "print(\"Number of mislabeled points out of a total %d points : %d\"\n",
    "      % (X_test.shape[0], (y_test != y_pred).sum()))"
   ]
  },
  {
   "cell_type": "code",
   "execution_count": 41,
   "id": "f9c90ac1",
   "metadata": {},
   "outputs": [
    {
     "name": "stdout",
     "output_type": "stream",
     "text": [
      "              precision    recall  f1-score   support\n",
      "\n",
      "      bakery       0.83      0.83      0.83         6\n",
      "      others       0.89      0.89      0.89         9\n",
      "      petite       1.00      1.00      1.00         1\n",
      "\n",
      "    accuracy                           0.88        16\n",
      "   macro avg       0.91      0.91      0.91        16\n",
      "weighted avg       0.88      0.88      0.88        16\n",
      "\n"
     ]
    }
   ],
   "source": [
    "print(classification_report(y_test, y_pred))"
   ]
  },
  {
   "cell_type": "code",
   "execution_count": 44,
   "id": "22bf9fcb",
   "metadata": {},
   "outputs": [
    {
     "data": {
      "image/svg+xml": [
       "<?xml version=\"1.0\" encoding=\"UTF-8\" standalone=\"no\"?>\n",
       "<!DOCTYPE svg PUBLIC \"-//W3C//DTD SVG 1.1//EN\"\n",
       " \"http://www.w3.org/Graphics/SVG/1.1/DTD/svg11.dtd\">\n",
       "<!-- Generated by graphviz version 8.0.5 (20230430.1635)\n",
       " -->\n",
       "<!-- Title: Tree Pages: 1 -->\n",
       "<svg width=\"584pt\" height=\"466pt\"\n",
       " viewBox=\"0.00 0.00 584.12 465.50\" xmlns=\"http://www.w3.org/2000/svg\" xmlns:xlink=\"http://www.w3.org/1999/xlink\">\n",
       "<g id=\"graph0\" class=\"graph\" transform=\"scale(1 1) rotate(0) translate(4 461.5)\">\n",
       "<title>Tree</title>\n",
       "<polygon fill=\"white\" stroke=\"none\" points=\"-4,4 -4,-461.5 580.12,-461.5 580.12,4 -4,4\"/>\n",
       "<!-- 0 -->\n",
       "<g id=\"node1\" class=\"node\">\n",
       "<title>0</title>\n",
       "<path fill=\"#f5cdb1\" stroke=\"black\" d=\"M437.25,-457.5C437.25,-457.5 332.75,-457.5 332.75,-457.5 326.75,-457.5 320.75,-451.5 320.75,-445.5 320.75,-445.5 320.75,-405.5 320.75,-405.5 320.75,-399.5 326.75,-393.5 332.75,-393.5 332.75,-393.5 437.25,-393.5 437.25,-393.5 443.25,-393.5 449.25,-399.5 449.25,-405.5 449.25,-405.5 449.25,-445.5 449.25,-445.5 449.25,-451.5 443.25,-457.5 437.25,-457.5\"/>\n",
       "<text text-anchor=\"start\" x=\"355\" y=\"-441.2\" font-family=\"Helvetica,sans-Serif\" font-size=\"14.00\">X</text>\n",
       "<text text-anchor=\"start\" x=\"364.75\" y=\"-441.2\" font-family=\"Helvetica,sans-Serif\" baseline-shift=\"sub\" font-size=\"14.00\">4</text>\n",
       "<text text-anchor=\"start\" x=\"371.5\" y=\"-441.2\" font-family=\"Helvetica,sans-Serif\" font-size=\"14.00\"> ≤ 12.5</text>\n",
       "<text text-anchor=\"start\" x=\"347.88\" y=\"-427.2\" font-family=\"Helvetica,sans-Serif\" font-size=\"14.00\">gini = 0.567</text>\n",
       "<text text-anchor=\"start\" x=\"341.88\" y=\"-413.2\" font-family=\"Helvetica,sans-Serif\" font-size=\"14.00\">samples = 61</text>\n",
       "<text text-anchor=\"start\" x=\"328.75\" y=\"-399.2\" font-family=\"Helvetica,sans-Serif\" font-size=\"14.00\">value = [35, 18, 8]</text>\n",
       "</g>\n",
       "<!-- 1 -->\n",
       "<g id=\"node2\" class=\"node\">\n",
       "<title>1</title>\n",
       "<path fill=\"#eda876\" stroke=\"black\" d=\"M364.12,-357.5C364.12,-357.5 267.88,-357.5 267.88,-357.5 261.88,-357.5 255.88,-351.5 255.88,-345.5 255.88,-345.5 255.88,-305.5 255.88,-305.5 255.88,-299.5 261.88,-293.5 267.88,-293.5 267.88,-293.5 364.12,-293.5 364.12,-293.5 370.12,-293.5 376.12,-299.5 376.12,-305.5 376.12,-305.5 376.12,-345.5 376.12,-345.5 376.12,-351.5 370.12,-357.5 364.12,-357.5\"/>\n",
       "<text text-anchor=\"start\" x=\"281.88\" y=\"-341.2\" font-family=\"Helvetica,sans-Serif\" font-size=\"14.00\">X</text>\n",
       "<text text-anchor=\"start\" x=\"291.62\" y=\"-341.2\" font-family=\"Helvetica,sans-Serif\" baseline-shift=\"sub\" font-size=\"14.00\">0</text>\n",
       "<text text-anchor=\"start\" x=\"298.38\" y=\"-341.2\" font-family=\"Helvetica,sans-Serif\" font-size=\"14.00\"> ≤ 200.0</text>\n",
       "<text text-anchor=\"start\" x=\"278.88\" y=\"-327.2\" font-family=\"Helvetica,sans-Serif\" font-size=\"14.00\">gini = 0.409</text>\n",
       "<text text-anchor=\"start\" x=\"272.88\" y=\"-313.2\" font-family=\"Helvetica,sans-Serif\" font-size=\"14.00\">samples = 47</text>\n",
       "<text text-anchor=\"start\" x=\"263.88\" y=\"-299.2\" font-family=\"Helvetica,sans-Serif\" font-size=\"14.00\">value = [35, 4, 8]</text>\n",
       "</g>\n",
       "<!-- 0&#45;&gt;1 -->\n",
       "<g id=\"edge1\" class=\"edge\">\n",
       "<title>0&#45;&gt;1</title>\n",
       "<path fill=\"none\" stroke=\"black\" d=\"M362.98,-393.22C357,-384.74 350.45,-375.43 344.19,-366.53\"/>\n",
       "<polygon fill=\"black\" stroke=\"black\" points=\"346.67,-364.98 338.05,-358.82 340.94,-369.01 346.67,-364.98\"/>\n",
       "<text text-anchor=\"middle\" x=\"333.77\" y=\"-377.4\" font-family=\"Helvetica,sans-Serif\" font-size=\"14.00\">True</text>\n",
       "</g>\n",
       "<!-- 12 -->\n",
       "<g id=\"node13\" class=\"node\">\n",
       "<title>12</title>\n",
       "<path fill=\"#39e581\" stroke=\"black\" d=\"M502.12,-354.25C502.12,-354.25 405.88,-354.25 405.88,-354.25 399.88,-354.25 393.88,-348.25 393.88,-342.25 393.88,-342.25 393.88,-308.75 393.88,-308.75 393.88,-302.75 399.88,-296.75 405.88,-296.75 405.88,-296.75 502.12,-296.75 502.12,-296.75 508.12,-296.75 514.12,-302.75 514.12,-308.75 514.12,-308.75 514.12,-342.25 514.12,-342.25 514.12,-348.25 508.12,-354.25 502.12,-354.25\"/>\n",
       "<text text-anchor=\"start\" x=\"425.12\" y=\"-336.95\" font-family=\"Helvetica,sans-Serif\" font-size=\"14.00\">gini = 0.0</text>\n",
       "<text text-anchor=\"start\" x=\"410.88\" y=\"-320.45\" font-family=\"Helvetica,sans-Serif\" font-size=\"14.00\">samples = 14</text>\n",
       "<text text-anchor=\"start\" x=\"401.88\" y=\"-303.95\" font-family=\"Helvetica,sans-Serif\" font-size=\"14.00\">value = [0, 14, 0]</text>\n",
       "</g>\n",
       "<!-- 0&#45;&gt;12 -->\n",
       "<g id=\"edge12\" class=\"edge\">\n",
       "<title>0&#45;&gt;12</title>\n",
       "<path fill=\"none\" stroke=\"black\" d=\"M407.02,-393.22C413.73,-383.7 421.16,-373.15 428.09,-363.3\"/>\n",
       "<polygon fill=\"black\" stroke=\"black\" points=\"431.39,-365.69 434.29,-355.5 425.67,-361.66 431.39,-365.69\"/>\n",
       "<text text-anchor=\"middle\" x=\"438.56\" y=\"-374.08\" font-family=\"Helvetica,sans-Serif\" font-size=\"14.00\">False</text>\n",
       "</g>\n",
       "<!-- 2 -->\n",
       "<g id=\"node3\" class=\"node\">\n",
       "<title>2</title>\n",
       "<path fill=\"#c09cf2\" stroke=\"black\" d=\"M293,-257.5C293,-257.5 205,-257.5 205,-257.5 199,-257.5 193,-251.5 193,-245.5 193,-245.5 193,-205.5 193,-205.5 193,-199.5 199,-193.5 205,-193.5 205,-193.5 293,-193.5 293,-193.5 299,-193.5 305,-199.5 305,-205.5 305,-205.5 305,-245.5 305,-245.5 305,-251.5 299,-257.5 293,-257.5\"/>\n",
       "<text text-anchor=\"start\" x=\"214.88\" y=\"-241.2\" font-family=\"Helvetica,sans-Serif\" font-size=\"14.00\">X</text>\n",
       "<text text-anchor=\"start\" x=\"224.62\" y=\"-241.2\" font-family=\"Helvetica,sans-Serif\" baseline-shift=\"sub\" font-size=\"14.00\">0</text>\n",
       "<text text-anchor=\"start\" x=\"231.38\" y=\"-241.2\" font-family=\"Helvetica,sans-Serif\" font-size=\"14.00\"> ≤ 150.0</text>\n",
       "<text text-anchor=\"start\" x=\"211.88\" y=\"-227.2\" font-family=\"Helvetica,sans-Serif\" font-size=\"14.00\">gini = 0.544</text>\n",
       "<text text-anchor=\"start\" x=\"205.88\" y=\"-213.2\" font-family=\"Helvetica,sans-Serif\" font-size=\"14.00\">samples = 13</text>\n",
       "<text text-anchor=\"start\" x=\"201\" y=\"-199.2\" font-family=\"Helvetica,sans-Serif\" font-size=\"14.00\">value = [3, 2, 8]</text>\n",
       "</g>\n",
       "<!-- 1&#45;&gt;2 -->\n",
       "<g id=\"edge2\" class=\"edge\">\n",
       "<title>1&#45;&gt;2</title>\n",
       "<path fill=\"none\" stroke=\"black\" d=\"M294.62,-293.22C288.88,-284.82 282.58,-275.62 276.56,-266.81\"/>\n",
       "<polygon fill=\"black\" stroke=\"black\" points=\"278.94,-265.1 270.41,-258.82 273.16,-269.05 278.94,-265.1\"/>\n",
       "</g>\n",
       "<!-- 7 -->\n",
       "<g id=\"node8\" class=\"node\">\n",
       "<title>7</title>\n",
       "<path fill=\"#e78945\" stroke=\"black\" d=\"M431.12,-257.5C431.12,-257.5 334.88,-257.5 334.88,-257.5 328.88,-257.5 322.88,-251.5 322.88,-245.5 322.88,-245.5 322.88,-205.5 322.88,-205.5 322.88,-199.5 328.88,-193.5 334.88,-193.5 334.88,-193.5 431.12,-193.5 431.12,-193.5 437.12,-193.5 443.12,-199.5 443.12,-205.5 443.12,-205.5 443.12,-245.5 443.12,-245.5 443.12,-251.5 437.12,-257.5 431.12,-257.5\"/>\n",
       "<text text-anchor=\"start\" x=\"357.12\" y=\"-241.2\" font-family=\"Helvetica,sans-Serif\" font-size=\"14.00\">X</text>\n",
       "<text text-anchor=\"start\" x=\"366.88\" y=\"-241.2\" font-family=\"Helvetica,sans-Serif\" baseline-shift=\"sub\" font-size=\"14.00\">1</text>\n",
       "<text text-anchor=\"start\" x=\"373.62\" y=\"-241.2\" font-family=\"Helvetica,sans-Serif\" font-size=\"14.00\"> ≤ 4.5</text>\n",
       "<text text-anchor=\"start\" x=\"345.88\" y=\"-227.2\" font-family=\"Helvetica,sans-Serif\" font-size=\"14.00\">gini = 0.111</text>\n",
       "<text text-anchor=\"start\" x=\"339.88\" y=\"-213.2\" font-family=\"Helvetica,sans-Serif\" font-size=\"14.00\">samples = 34</text>\n",
       "<text text-anchor=\"start\" x=\"330.88\" y=\"-199.2\" font-family=\"Helvetica,sans-Serif\" font-size=\"14.00\">value = [32, 2, 0]</text>\n",
       "</g>\n",
       "<!-- 1&#45;&gt;7 -->\n",
       "<g id=\"edge7\" class=\"edge\">\n",
       "<title>1&#45;&gt;7</title>\n",
       "<path fill=\"none\" stroke=\"black\" d=\"M337.38,-293.22C343.12,-284.82 349.42,-275.62 355.44,-266.81\"/>\n",
       "<polygon fill=\"black\" stroke=\"black\" points=\"358.84,-269.05 361.59,-258.82 353.06,-265.1 358.84,-269.05\"/>\n",
       "</g>\n",
       "<!-- 3 -->\n",
       "<g id=\"node4\" class=\"node\">\n",
       "<title>3</title>\n",
       "<path fill=\"#f6d5bd\" stroke=\"black\" d=\"M164,-157.5C164,-157.5 76,-157.5 76,-157.5 70,-157.5 64,-151.5 64,-145.5 64,-145.5 64,-105.5 64,-105.5 64,-99.5 70,-93.5 76,-93.5 76,-93.5 164,-93.5 164,-93.5 170,-93.5 176,-99.5 176,-105.5 176,-105.5 176,-145.5 176,-145.5 176,-151.5 170,-157.5 164,-157.5\"/>\n",
       "<text text-anchor=\"start\" x=\"94.12\" y=\"-141.2\" font-family=\"Helvetica,sans-Serif\" font-size=\"14.00\">X</text>\n",
       "<text text-anchor=\"start\" x=\"103.88\" y=\"-141.2\" font-family=\"Helvetica,sans-Serif\" baseline-shift=\"sub\" font-size=\"14.00\">3</text>\n",
       "<text text-anchor=\"start\" x=\"110.62\" y=\"-141.2\" font-family=\"Helvetica,sans-Serif\" font-size=\"14.00\"> ≤ 1.0</text>\n",
       "<text text-anchor=\"start\" x=\"87\" y=\"-127.2\" font-family=\"Helvetica,sans-Serif\" font-size=\"14.00\">gini = 0.48</text>\n",
       "<text text-anchor=\"start\" x=\"81\" y=\"-113.2\" font-family=\"Helvetica,sans-Serif\" font-size=\"14.00\">samples = 5</text>\n",
       "<text text-anchor=\"start\" x=\"72\" y=\"-99.2\" font-family=\"Helvetica,sans-Serif\" font-size=\"14.00\">value = [3, 2, 0]</text>\n",
       "</g>\n",
       "<!-- 2&#45;&gt;3 -->\n",
       "<g id=\"edge3\" class=\"edge\">\n",
       "<title>2&#45;&gt;3</title>\n",
       "<path fill=\"none\" stroke=\"black\" d=\"M207.83,-193.22C195.73,-184.03 182.36,-173.87 169.78,-164.32\"/>\n",
       "<polygon fill=\"black\" stroke=\"black\" points=\"172.3,-161.08 162.22,-157.82 168.07,-166.65 172.3,-161.08\"/>\n",
       "</g>\n",
       "<!-- 6 -->\n",
       "<g id=\"node7\" class=\"node\">\n",
       "<title>6</title>\n",
       "<path fill=\"#8139e5\" stroke=\"black\" d=\"M294,-154.25C294,-154.25 206,-154.25 206,-154.25 200,-154.25 194,-148.25 194,-142.25 194,-142.25 194,-108.75 194,-108.75 194,-102.75 200,-96.75 206,-96.75 206,-96.75 294,-96.75 294,-96.75 300,-96.75 306,-102.75 306,-108.75 306,-108.75 306,-142.25 306,-142.25 306,-148.25 300,-154.25 294,-154.25\"/>\n",
       "<text text-anchor=\"start\" x=\"221.12\" y=\"-136.95\" font-family=\"Helvetica,sans-Serif\" font-size=\"14.00\">gini = 0.0</text>\n",
       "<text text-anchor=\"start\" x=\"211\" y=\"-120.45\" font-family=\"Helvetica,sans-Serif\" font-size=\"14.00\">samples = 8</text>\n",
       "<text text-anchor=\"start\" x=\"202\" y=\"-103.95\" font-family=\"Helvetica,sans-Serif\" font-size=\"14.00\">value = [0, 0, 8]</text>\n",
       "</g>\n",
       "<!-- 2&#45;&gt;6 -->\n",
       "<g id=\"edge6\" class=\"edge\">\n",
       "<title>2&#45;&gt;6</title>\n",
       "<path fill=\"none\" stroke=\"black\" d=\"M249.32,-193.22C249.41,-184.38 249.51,-174.65 249.6,-165.42\"/>\n",
       "<polygon fill=\"black\" stroke=\"black\" points=\"253.11,-165.54 249.71,-155.5 246.11,-165.46 253.11,-165.54\"/>\n",
       "</g>\n",
       "<!-- 4 -->\n",
       "<g id=\"node5\" class=\"node\">\n",
       "<title>4</title>\n",
       "<path fill=\"#e58139\" stroke=\"black\" d=\"M100,-57.5C100,-57.5 12,-57.5 12,-57.5 6,-57.5 0,-51.5 0,-45.5 0,-45.5 0,-12 0,-12 0,-6 6,0 12,0 12,0 100,0 100,0 106,0 112,-6 112,-12 112,-12 112,-45.5 112,-45.5 112,-51.5 106,-57.5 100,-57.5\"/>\n",
       "<text text-anchor=\"start\" x=\"27.12\" y=\"-40.2\" font-family=\"Helvetica,sans-Serif\" font-size=\"14.00\">gini = 0.0</text>\n",
       "<text text-anchor=\"start\" x=\"17\" y=\"-23.7\" font-family=\"Helvetica,sans-Serif\" font-size=\"14.00\">samples = 3</text>\n",
       "<text text-anchor=\"start\" x=\"8\" y=\"-7.2\" font-family=\"Helvetica,sans-Serif\" font-size=\"14.00\">value = [3, 0, 0]</text>\n",
       "</g>\n",
       "<!-- 3&#45;&gt;4 -->\n",
       "<g id=\"edge4\" class=\"edge\">\n",
       "<title>3&#45;&gt;4</title>\n",
       "<path fill=\"none\" stroke=\"black\" d=\"M98.87,-93.21C93.14,-84.73 86.88,-75.47 80.96,-66.71\"/>\n",
       "<polygon fill=\"black\" stroke=\"black\" points=\"83.45,-65.14 74.95,-58.81 77.65,-69.06 83.45,-65.14\"/>\n",
       "</g>\n",
       "<!-- 5 -->\n",
       "<g id=\"node6\" class=\"node\">\n",
       "<title>5</title>\n",
       "<path fill=\"#39e581\" stroke=\"black\" d=\"M230,-57.5C230,-57.5 142,-57.5 142,-57.5 136,-57.5 130,-51.5 130,-45.5 130,-45.5 130,-12 130,-12 130,-6 136,0 142,0 142,0 230,0 230,0 236,0 242,-6 242,-12 242,-12 242,-45.5 242,-45.5 242,-51.5 236,-57.5 230,-57.5\"/>\n",
       "<text text-anchor=\"start\" x=\"157.12\" y=\"-40.2\" font-family=\"Helvetica,sans-Serif\" font-size=\"14.00\">gini = 0.0</text>\n",
       "<text text-anchor=\"start\" x=\"147\" y=\"-23.7\" font-family=\"Helvetica,sans-Serif\" font-size=\"14.00\">samples = 2</text>\n",
       "<text text-anchor=\"start\" x=\"138\" y=\"-7.2\" font-family=\"Helvetica,sans-Serif\" font-size=\"14.00\">value = [0, 2, 0]</text>\n",
       "</g>\n",
       "<!-- 3&#45;&gt;5 -->\n",
       "<g id=\"edge5\" class=\"edge\">\n",
       "<title>3&#45;&gt;5</title>\n",
       "<path fill=\"none\" stroke=\"black\" d=\"M141.79,-93.21C147.7,-84.73 154.15,-75.47 160.26,-66.71\"/>\n",
       "<polygon fill=\"black\" stroke=\"black\" points=\"163.61,-69.02 166.45,-58.81 157.87,-65.02 163.61,-69.02\"/>\n",
       "</g>\n",
       "<!-- 8 -->\n",
       "<g id=\"node9\" class=\"node\">\n",
       "<title>8</title>\n",
       "<path fill=\"#f6d5bd\" stroke=\"black\" d=\"M426,-157.5C426,-157.5 338,-157.5 338,-157.5 332,-157.5 326,-151.5 326,-145.5 326,-145.5 326,-105.5 326,-105.5 326,-99.5 332,-93.5 338,-93.5 338,-93.5 426,-93.5 426,-93.5 432,-93.5 438,-99.5 438,-105.5 438,-105.5 438,-145.5 438,-145.5 438,-151.5 432,-157.5 426,-157.5\"/>\n",
       "<text text-anchor=\"start\" x=\"356.12\" y=\"-141.2\" font-family=\"Helvetica,sans-Serif\" font-size=\"14.00\">X</text>\n",
       "<text text-anchor=\"start\" x=\"365.88\" y=\"-141.2\" font-family=\"Helvetica,sans-Serif\" baseline-shift=\"sub\" font-size=\"14.00\">3</text>\n",
       "<text text-anchor=\"start\" x=\"372.62\" y=\"-141.2\" font-family=\"Helvetica,sans-Serif\" font-size=\"14.00\"> ≤ 2.5</text>\n",
       "<text text-anchor=\"start\" x=\"349\" y=\"-127.2\" font-family=\"Helvetica,sans-Serif\" font-size=\"14.00\">gini = 0.48</text>\n",
       "<text text-anchor=\"start\" x=\"343\" y=\"-113.2\" font-family=\"Helvetica,sans-Serif\" font-size=\"14.00\">samples = 5</text>\n",
       "<text text-anchor=\"start\" x=\"334\" y=\"-99.2\" font-family=\"Helvetica,sans-Serif\" font-size=\"14.00\">value = [3, 2, 0]</text>\n",
       "</g>\n",
       "<!-- 7&#45;&gt;8 -->\n",
       "<g id=\"edge8\" class=\"edge\">\n",
       "<title>7&#45;&gt;8</title>\n",
       "<path fill=\"none\" stroke=\"black\" d=\"M382.68,-193.22C382.6,-185.44 382.52,-176.98 382.43,-168.76\"/>\n",
       "<polygon fill=\"black\" stroke=\"black\" points=\"385.92,-168.78 382.32,-158.82 378.92,-168.85 385.92,-168.78\"/>\n",
       "</g>\n",
       "<!-- 11 -->\n",
       "<g id=\"node12\" class=\"node\">\n",
       "<title>11</title>\n",
       "<path fill=\"#e58139\" stroke=\"black\" d=\"M564.12,-154.25C564.12,-154.25 467.88,-154.25 467.88,-154.25 461.88,-154.25 455.88,-148.25 455.88,-142.25 455.88,-142.25 455.88,-108.75 455.88,-108.75 455.88,-102.75 461.88,-96.75 467.88,-96.75 467.88,-96.75 564.12,-96.75 564.12,-96.75 570.12,-96.75 576.12,-102.75 576.12,-108.75 576.12,-108.75 576.12,-142.25 576.12,-142.25 576.12,-148.25 570.12,-154.25 564.12,-154.25\"/>\n",
       "<text text-anchor=\"start\" x=\"487.12\" y=\"-136.95\" font-family=\"Helvetica,sans-Serif\" font-size=\"14.00\">gini = 0.0</text>\n",
       "<text text-anchor=\"start\" x=\"472.88\" y=\"-120.45\" font-family=\"Helvetica,sans-Serif\" font-size=\"14.00\">samples = 29</text>\n",
       "<text text-anchor=\"start\" x=\"463.88\" y=\"-103.95\" font-family=\"Helvetica,sans-Serif\" font-size=\"14.00\">value = [29, 0, 0]</text>\n",
       "</g>\n",
       "<!-- 7&#45;&gt;11 -->\n",
       "<g id=\"edge11\" class=\"edge\">\n",
       "<title>7&#45;&gt;11</title>\n",
       "<path fill=\"none\" stroke=\"black\" d=\"M425.45,-193.22C439.42,-182.92 455.04,-171.42 469.31,-160.9\"/>\n",
       "<polygon fill=\"black\" stroke=\"black\" points=\"471.03,-163.25 477,-154.5 466.87,-157.61 471.03,-163.25\"/>\n",
       "</g>\n",
       "<!-- 9 -->\n",
       "<g id=\"node10\" class=\"node\">\n",
       "<title>9</title>\n",
       "<path fill=\"#e58139\" stroke=\"black\" d=\"M393,-57.5C393,-57.5 305,-57.5 305,-57.5 299,-57.5 293,-51.5 293,-45.5 293,-45.5 293,-12 293,-12 293,-6 299,0 305,0 305,0 393,0 393,0 399,0 405,-6 405,-12 405,-12 405,-45.5 405,-45.5 405,-51.5 399,-57.5 393,-57.5\"/>\n",
       "<text text-anchor=\"start\" x=\"320.12\" y=\"-40.2\" font-family=\"Helvetica,sans-Serif\" font-size=\"14.00\">gini = 0.0</text>\n",
       "<text text-anchor=\"start\" x=\"310\" y=\"-23.7\" font-family=\"Helvetica,sans-Serif\" font-size=\"14.00\">samples = 3</text>\n",
       "<text text-anchor=\"start\" x=\"301\" y=\"-7.2\" font-family=\"Helvetica,sans-Serif\" font-size=\"14.00\">value = [3, 0, 0]</text>\n",
       "</g>\n",
       "<!-- 8&#45;&gt;9 -->\n",
       "<g id=\"edge9\" class=\"edge\">\n",
       "<title>8&#45;&gt;9</title>\n",
       "<path fill=\"none\" stroke=\"black\" d=\"M371.1,-93.21C368.3,-85.18 365.26,-76.44 362.35,-68.09\"/>\n",
       "<polygon fill=\"black\" stroke=\"black\" points=\"365.37,-67.1 358.77,-58.81 358.76,-69.41 365.37,-67.1\"/>\n",
       "</g>\n",
       "<!-- 10 -->\n",
       "<g id=\"node11\" class=\"node\">\n",
       "<title>10</title>\n",
       "<path fill=\"#39e581\" stroke=\"black\" d=\"M523,-57.5C523,-57.5 435,-57.5 435,-57.5 429,-57.5 423,-51.5 423,-45.5 423,-45.5 423,-12 423,-12 423,-6 429,0 435,0 435,0 523,0 523,0 529,0 535,-6 535,-12 535,-12 535,-45.5 535,-45.5 535,-51.5 529,-57.5 523,-57.5\"/>\n",
       "<text text-anchor=\"start\" x=\"450.12\" y=\"-40.2\" font-family=\"Helvetica,sans-Serif\" font-size=\"14.00\">gini = 0.0</text>\n",
       "<text text-anchor=\"start\" x=\"440\" y=\"-23.7\" font-family=\"Helvetica,sans-Serif\" font-size=\"14.00\">samples = 2</text>\n",
       "<text text-anchor=\"start\" x=\"431\" y=\"-7.2\" font-family=\"Helvetica,sans-Serif\" font-size=\"14.00\">value = [0, 2, 0]</text>\n",
       "</g>\n",
       "<!-- 8&#45;&gt;10 -->\n",
       "<g id=\"edge10\" class=\"edge\">\n",
       "<title>8&#45;&gt;10</title>\n",
       "<path fill=\"none\" stroke=\"black\" d=\"M414.03,-93.21C423.17,-84.28 433.2,-74.49 442.58,-65.33\"/>\n",
       "<polygon fill=\"black\" stroke=\"black\" points=\"444.56,-68.3 449.27,-58.81 439.67,-63.3 444.56,-68.3\"/>\n",
       "</g>\n",
       "</g>\n",
       "</svg>\n"
      ],
      "text/plain": [
       "<graphviz.sources.Source at 0x28c438cb490>"
      ]
     },
     "execution_count": 44,
     "metadata": {},
     "output_type": "execute_result"
    }
   ],
   "source": [
    "import graphviz\n",
    "dot_data = tree.export_graphviz(clf, out_file=None, filled=True, rounded=True, special_characters=True)  \n",
    "graph = graphviz.Source(dot_data)  \n",
    "graph "
   ]
  },
  {
   "cell_type": "code",
   "execution_count": 54,
   "id": "9a920b49",
   "metadata": {},
   "outputs": [
    {
     "name": "stdout",
     "output_type": "stream",
     "text": [
      "\n",
      "Statistics for this model:\n",
      "  Mislabeled points 2 out of 16\n",
      "  Accuracy : 0.875\n",
      "  Precision : 0.875\n",
      "Precission score: 0.907407\n",
      "Recall score: 0.907407\n"
     ]
    }
   ],
   "source": [
    "from sklearn.metrics import mean_squared_error, f1_score, precision_score, recall_score\n",
    "\n",
    "def print_stats(y_test, y_pred):\n",
    "    print(\"\\nStatistics for this model:\")\n",
    "    print(f\"  Mislabeled points {(y_test != y_pred).sum()} out of {y_test.shape[0]}\")\n",
    "#     print(f\"  MSE : {mean_squared_error(y_test, y_pred)}\")\n",
    "    print(f\"  Accuracy : {accuracy_score(y_test, y_pred)}\")   \n",
    "    print(f\"  Precision : {f1_score(y_test, y_pred, average='weighted')}\")\n",
    "    print(\"Precission score: {:3f}\".format(precision_score(y_test, y_pred, average='macro')))\n",
    "    print(\"Recall score: {:3f}\".format(recall_score(y_test, y_pred, average='macro')))\n",
    "\n",
    "print_stats(y_test, y_pred)"
   ]
  },
  {
   "cell_type": "code",
   "execution_count": 55,
   "id": "cb426dd5",
   "metadata": {},
   "outputs": [
    {
     "name": "stdout",
     "output_type": "stream",
     "text": [
      "|--- protein <= 12.50\n",
      "|   |--- calories <= 200.00\n",
      "|   |   |--- calories <= 150.00\n",
      "|   |   |   |--- fiber <= 1.00\n",
      "|   |   |   |   |--- class: bakery\n",
      "|   |   |   |--- fiber >  1.00\n",
      "|   |   |   |   |--- class: others\n",
      "|   |   |--- calories >  150.00\n",
      "|   |   |   |--- class: petite\n",
      "|   |--- calories >  200.00\n",
      "|   |   |--- fat <= 4.50\n",
      "|   |   |   |--- fiber <= 2.50\n",
      "|   |   |   |   |--- class: bakery\n",
      "|   |   |   |--- fiber >  2.50\n",
      "|   |   |   |   |--- class: others\n",
      "|   |   |--- fat >  4.50\n",
      "|   |   |   |--- class: bakery\n",
      "|--- protein >  12.50\n",
      "|   |--- class: others\n",
      "\n"
     ]
    }
   ],
   "source": [
    "from sklearn.tree import export_text\n",
    "drawn_tree = tree.export_text(clf, feature_names=columns)\n",
    "print(drawn_tree)"
   ]
  },
  {
   "cell_type": "code",
   "execution_count": 56,
   "id": "84242a2c",
   "metadata": {},
   "outputs": [
    {
     "data": {
      "text/plain": [
       "{'ccp_alpha': 0.0,\n",
       " 'class_weight': None,\n",
       " 'criterion': 'gini',\n",
       " 'max_depth': None,\n",
       " 'max_features': None,\n",
       " 'max_leaf_nodes': None,\n",
       " 'min_impurity_decrease': 0.0,\n",
       " 'min_impurity_split': None,\n",
       " 'min_samples_leaf': 1,\n",
       " 'min_samples_split': 2,\n",
       " 'min_weight_fraction_leaf': 0.0,\n",
       " 'random_state': None,\n",
       " 'splitter': 'best'}"
      ]
     },
     "execution_count": 56,
     "metadata": {},
     "output_type": "execute_result"
    }
   ],
   "source": [
    "clf.get_params()"
   ]
  },
  {
   "cell_type": "markdown",
   "id": "cc6ccfca",
   "metadata": {},
   "source": [
    "## LDA"
   ]
  },
  {
   "cell_type": "code",
   "execution_count": 87,
   "id": "25794965",
   "metadata": {},
   "outputs": [],
   "source": [
    "import numpy as np\n",
    "import matplotlib.pyplot as plt\n",
    "import pandas as pd\n",
    "\n",
    "X=data.values[:,1:6]\n",
    "y=data.values[:,6]\n",
    "\n",
    "from sklearn.model_selection import train_test_split\n",
    "X_train, X_test, y_train, y_test = train_test_split(X, y, test_size = 0.2, random_state = 0)\n",
    "\n",
    "from sklearn.preprocessing import StandardScaler\n",
    "sc = StandardScaler()\n",
    "X_train = sc.fit_transform(X_train)\n",
    "X_test = sc.transform(X_test)\n",
    "\n",
    "from sklearn.discriminant_analysis import LinearDiscriminantAnalysis as LDA\n",
    "lda = LDA(n_components = 2)\n",
    "X_train = lda.fit_transform(X_train, y_train)\n",
    "X_test = lda.transform(X_test)\n",
    "\n",
    "from sklearn.linear_model import LogisticRegression\n",
    "classifier = LogisticRegression(random_state = 0)\n",
    "classifier.fit(X_train, y_train)\n",
    "\n",
    "y_pred = classifier.predict(X_test)\n",
    "\n",
    "from sklearn.metrics import confusion_matrix\n",
    "cm = confusion_matrix(y_test, y_pred)"
   ]
  },
  {
   "cell_type": "code",
   "execution_count": 107,
   "id": "dd0fbe35",
   "metadata": {},
   "outputs": [
    {
     "data": {
      "image/png": "[encoded data removed]",
      "text/plain": [
       "<Figure size 432x288 with 1 Axes>"
      ]
     },
     "metadata": {
      "needs_background": "light"
     },
     "output_type": "display_data"
    }
   ],
   "source": [
    "from matplotlib.colors import ListedColormap\n",
    "\n",
    "X_set = X_test \n",
    "\n",
    "\n",
    "from sklearn.preprocessing import LabelEncoder\n",
    "\n",
    "label_encoder = LabelEncoder()\n",
    "y_test_encoded = label_encoder.fit_transform(y_test)\n",
    "y_set = y_test_encoded\n",
    "\n",
    "X1, X2 = np.meshgrid(np.arange(start = X_set[:, 0].min() - 1, stop = X_set[:, 0].max() + 1, step = 0.01),\n",
    "                     np.arange(start = X_set[:, 1].min() - 1, stop = X_set[:, 1].max() + 1, step = 0.01))\n",
    "# plt.contourf(X1, X2, classifier.predict(np.array([X1.ravel(), X2.ravel()]).T).reshape(X1.shape), \n",
    "#              alpha = 0.75, cmap = ListedColormap(['r', 'g', 'b']))\n",
    "plt.xlim(X1.min(), X1.max())\n",
    "plt.ylim(X2.min(), X2.max())\n",
    "for i, j in enumerate(np.unique(y_set)):\n",
    "    plt.scatter(X_set[y_set == j, 0], X_set[y_set == j, 1], color = ListedColormap(['r', 'g', 'b'])(i), label = j)\n",
    "plt.title('Logistic Regression (Training set)')\n",
    "plt.xlabel('LD1')\n",
    "plt.ylabel('LD2')\n",
    "#plt.legend()\n",
    "plt.show()"
   ]
  },
  {
   "cell_type": "code",
   "execution_count": 108,
   "id": "83c16580",
   "metadata": {},
   "outputs": [
    {
     "data": {
      "image/png": "[encoded data removed]",
      "text/plain": [
       "<Figure size 432x288 with 1 Axes>"
      ]
     },
     "metadata": {
      "needs_background": "light"
     },
     "output_type": "display_data"
    }
   ],
   "source": [
    "#from matplotlib.colors import ListedColormap\n",
    "X_set = X_test \n",
    "\n",
    "\n",
    "from sklearn.preprocessing import LabelEncoder\n",
    "\n",
    "label_encoder = LabelEncoder()\n",
    "y_test_encoded = label_encoder.fit_transform(y_test)\n",
    "y_set = y_test_encoded\n",
    "\n",
    "X1, X2 = np.meshgrid(np.arange(start = X_set[:, 0].min() - 1, stop = X_set[:, 0].max() + 1, step = 0.01),\n",
    "                     np.arange(start = X_set[:, 1].min() - 1, stop = X_set[:, 1].max() + 1, step = 0.01))\n",
    "\n",
    "# plt.contourf(X1, X2, classifier.predict(np.array([X1.ravel(), X2.ravel()]).T).reshape(X1.shape), alpha = 0.75, cmap = ListedColormap(['r', 'g', 'b']))\n",
    "plt.xlim(X1.min(), X1.max())\n",
    "plt.ylim(X2.min(), X2.max())\n",
    "for i, j in enumerate(np.unique(y_set)):\n",
    "    plt.scatter(X_set[y_set == j, 0], X_set[y_set == j, 1], color = ListedColormap(['r', 'g', 'b'])(i), label = j)\n",
    "plt.title('Logistic Regression (Test set)')\n",
    "plt.xlabel('LD1')\n",
    "plt.ylabel('LD2')\n",
    "#plt.legend()\n",
    "plt.show()\n"
   ]
  },
  {
   "cell_type": "code",
   "execution_count": null,
   "id": "6510c9c8",
   "metadata": {},
   "outputs": [],
   "source": [
    "# --------------------------------"
   ]
  },
  {
   "cell_type": "code",
   "execution_count": 109,
   "id": "f5f9a664",
   "metadata": {},
   "outputs": [],
   "source": [
    "import sklearn.datasets as ds\n",
    "from sklearn.naive_bayes import GaussianNB, MultinomialNB\n",
    "from sklearn.model_selection import train_test_split, KFold, cross_val_score\n",
    "from sklearn.metrics import accuracy_score\n",
    "from sklearn.neighbors import NearestNeighbors, KNeighborsClassifier\n",
    "from sklearn.tree import DecisionTreeClassifier\n",
    "import matplotlib.pyplot as plt\n",
    "import seaborn as sns\n",
    "from sklearn.discriminant_analysis import LinearDiscriminantAnalysis\n",
    "from sklearn.neural_network import MLPClassifier\n",
    "from sklearn.svm import SVC, LinearSVC"
   ]
  },
  {
   "cell_type": "code",
   "execution_count": 111,
   "id": "b5702b2d",
   "metadata": {},
   "outputs": [
    {
     "data": {
      "text/plain": [
       "0.8808333333333334"
      ]
     },
     "execution_count": 111,
     "metadata": {},
     "output_type": "execute_result"
    }
   ],
   "source": [
    "kfolds = 5\n",
    "lda = LinearDiscriminantAnalysis()\n",
    "scores = cross_val_score(lda, X, y, cv=kfolds)\n",
    "scores.mean()"
   ]
  }
 ],
 "metadata": {
  "kernelspec": {
   "display_name": "Python 3 (ipykernel)",
   "language": "python",
   "name": "python3"
  },
  "language_info": {
   "codemirror_mode": {
    "name": "ipython",
    "version": 3
   },
   "file_extension": ".py",
   "mimetype": "text/x-python",
   "name": "python",
   "nbconvert_exporter": "python",
   "pygments_lexer": "ipython3",
   "version": "3.9.7"
  }
 },
 "nbformat": 4,
 "nbformat_minor": 5
}
